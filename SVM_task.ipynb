{
  "cells": [
    {
      "cell_type": "markdown",
      "id": "ff1160b7",
      "metadata": {
        "id": "ff1160b7"
      },
      "source": [
        "# Importing Labraries"
      ]
    },
    {
      "cell_type": "code",
      "execution_count": 1,
      "id": "59f246ba",
      "metadata": {
        "id": "59f246ba"
      },
      "outputs": [],
      "source": [
        "import numpy as np\n",
        "import pandas as pd\n",
        "import statsmodels.api as sm\n",
        "import seaborn as sns\n",
        "import matplotlib.pyplot as plt\n",
        "sns.set()"
      ]
    },
    {
      "cell_type": "code",
      "source": [
        "from google.colab import drive\n",
        "drive.mount('/content/gdrive')"
      ],
      "metadata": {
        "colab": {
          "base_uri": "https://localhost:8080/"
        },
        "id": "FcxzT3iUA5By",
        "outputId": "bf1b199d-369b-4b72-d353-1d3bd7defaba"
      },
      "id": "FcxzT3iUA5By",
      "execution_count": 2,
      "outputs": [
        {
          "output_type": "stream",
          "name": "stdout",
          "text": [
            "Drive already mounted at /content/gdrive; to attempt to forcibly remount, call drive.mount(\"/content/gdrive\", force_remount=True).\n"
          ]
        }
      ]
    },
    {
      "cell_type": "code",
      "execution_count": 3,
      "id": "a3096808",
      "metadata": {
        "id": "a3096808"
      },
      "outputs": [],
      "source": [
        "column = [\n",
        "        'duration                   '  ,'protocol_type              '  ,'service                    '  ,'flag                       '  ,'src_bytes                  '  ,'dst_bytes                  '  ,'land                       '  ,'wrong_fragment             '  ,'urgent                     '  ,'hot                        '  ,'num_failed_logins          '  ,'logged_in                  '  ,'num_compromised            '  ,'root_shell                 '  ,'su_attempted               '  ,'num_root                   '  ,'num_file_creations         '  ,'num_shells                 '  ,'num_access_files           '  ,'num_outbound_cmds          '  ,'is_host_login              '  ,'is_guest_login             '  ,'count                      '  ,'srv_count                  '  ,'serror_rate                '  ,'srv_serror_rate            '  ,'rerror_rate                '  ,'srv_rerror_rate            '  ,'same_srv_rate              '  ,'diff_srv_rate              '  ,'srv_diff_host_rate         '  ,'dst_host_count             '  ,'dst_host_srv_count         '  ,'dst_host_same_srv_rate     '  ,'dst_host_diff_srv_rate     '  ,'dst_host_same_src_port_rate'  ,'dst_host_srv_diff_host_rate'  ,'dst_host_serror_rate       '  ,'dst_host_srv_serror_rate   '  ,'dst_host_rerror_rate       '  ,'dst_host_srv_rerror_rate   ','target'  \n",
        "]\n",
        "  "
      ]
    },
    {
      "cell_type": "markdown",
      "id": "2f6a78ac",
      "metadata": {
        "id": "2f6a78ac"
      },
      "source": [
        "# Load the data"
      ]
    },
    {
      "cell_type": "code",
      "execution_count": 4,
      "id": "91fd5fc4",
      "metadata": {
        "id": "91fd5fc4"
      },
      "outputs": [],
      "source": [
        "data_train = pd.read_csv('/content/gdrive/MyDrive/Colab Notebooks/NSL_KDD_Train.csv',names=np.array(column),sep=',',encoding='utf-8')\n",
        "# data_test =  pd.read_csv('.../content/drive/NSL_KDD_Test.csv',names=column,sep=',',encoding='utf-8')"
      ]
    },
    {
      "cell_type": "code",
      "execution_count": 5,
      "id": "7dc9f69e",
      "metadata": {
        "colab": {
          "base_uri": "https://localhost:8080/",
          "height": 456
        },
        "id": "7dc9f69e",
        "outputId": "53a62124-b681-4436-9a85-be5d06dd705a"
      },
      "outputs": [
        {
          "output_type": "execute_result",
          "data": {
            "text/plain": [
              "        duration                    protocol_type                \\\n",
              "42541                             0                         udp   \n",
              "65862                             0                         tcp   \n",
              "12063                             0                        icmp   \n",
              "40621                             0                         tcp   \n",
              "8712                              0                         tcp   \n",
              "81874                             3                         tcp   \n",
              "63799                             0                         tcp   \n",
              "106685                            0                        icmp   \n",
              "51657                             0                         tcp   \n",
              "95115                             0                         tcp   \n",
              "\n",
              "       service                     flag                         \\\n",
              "42541                     domain_u                          SF   \n",
              "65862                     ftp_data                          SF   \n",
              "12063                        eco_i                          SF   \n",
              "40621                       telnet                          S0   \n",
              "8712                       private                          S0   \n",
              "81874                       finger                          SF   \n",
              "63799                        other                         OTH   \n",
              "106685                       ecr_i                          SF   \n",
              "51657                         http                          SF   \n",
              "95115                        imap4                          S0   \n",
              "\n",
              "        src_bytes                    dst_bytes                    \\\n",
              "42541                            46                          134   \n",
              "65862                           748                            0   \n",
              "12063                             8                            0   \n",
              "40621                             0                            0   \n",
              "8712                              0                            0   \n",
              "81874                             9                          224   \n",
              "63799                             0                            0   \n",
              "106685                         1032                            0   \n",
              "51657                           201                          535   \n",
              "95115                             0                            0   \n",
              "\n",
              "        land                         wrong_fragment               \\\n",
              "42541                             0                            0   \n",
              "65862                             0                            0   \n",
              "12063                             0                            0   \n",
              "40621                             0                            0   \n",
              "8712                              0                            0   \n",
              "81874                             0                            0   \n",
              "63799                             0                            0   \n",
              "106685                            0                            0   \n",
              "51657                             0                            0   \n",
              "95115                             0                            0   \n",
              "\n",
              "        urgent                       hot                          ...  \\\n",
              "42541                             0                            0  ...   \n",
              "65862                             0                            0  ...   \n",
              "12063                             0                            0  ...   \n",
              "40621                             0                            0  ...   \n",
              "8712                              0                            0  ...   \n",
              "81874                             0                            0  ...   \n",
              "63799                             0                            0  ...   \n",
              "106685                            0                            0  ...   \n",
              "51657                             0                            0  ...   \n",
              "95115                             0                            0  ...   \n",
              "\n",
              "        dst_host_srv_count           dst_host_same_srv_rate       \\\n",
              "42541                           255                         1.00   \n",
              "65862                             1                         0.08   \n",
              "12063                           173                         1.00   \n",
              "40621                            65                         0.25   \n",
              "8712                             20                         0.36   \n",
              "81874                             5                         0.02   \n",
              "63799                             1                         0.00   \n",
              "106685                          255                         1.00   \n",
              "51657                           255                         1.00   \n",
              "95115                             3                         0.01   \n",
              "\n",
              "        dst_host_diff_srv_rate       dst_host_same_src_port_rate  \\\n",
              "42541                          0.00                         0.00   \n",
              "65862                          0.33                         0.08   \n",
              "12063                          0.00                         1.00   \n",
              "40621                          0.02                         0.01   \n",
              "8712                           0.12                         0.02   \n",
              "81874                          0.02                         0.00   \n",
              "63799                          1.00                         1.00   \n",
              "106685                         0.00                         1.00   \n",
              "51657                          0.00                         0.00   \n",
              "95115                          0.06                         0.00   \n",
              "\n",
              "        dst_host_srv_diff_host_rate  dst_host_serror_rate         \\\n",
              "42541                          0.00                          0.0   \n",
              "65862                          0.00                          0.0   \n",
              "12063                          0.25                          0.0   \n",
              "40621                          0.00                          1.0   \n",
              "8712                           0.00                          1.0   \n",
              "81874                          0.00                          0.0   \n",
              "63799                          0.00                          0.0   \n",
              "106685                         0.00                          0.0   \n",
              "51657                          0.00                          0.0   \n",
              "95115                          0.00                          1.0   \n",
              "\n",
              "        dst_host_srv_serror_rate     dst_host_rerror_rate         \\\n",
              "42541                           0.0                         0.00   \n",
              "65862                           0.0                         0.00   \n",
              "12063                           0.0                         0.00   \n",
              "40621                           1.0                         0.00   \n",
              "8712                            1.0                         0.00   \n",
              "81874                           0.0                         0.02   \n",
              "63799                           0.0                         0.99   \n",
              "106685                          0.0                         0.00   \n",
              "51657                           0.0                         0.00   \n",
              "95115                           1.0                         0.00   \n",
              "\n",
              "        dst_host_srv_rerror_rate        target  \n",
              "42541                           0.0     normal  \n",
              "65862                           0.0     normal  \n",
              "12063                           0.0       nmap  \n",
              "40621                           0.0    neptune  \n",
              "8712                            0.0    neptune  \n",
              "81874                           0.0     normal  \n",
              "63799                           0.0  portsweep  \n",
              "106685                          0.0      smurf  \n",
              "51657                           0.0     normal  \n",
              "95115                           0.0    neptune  \n",
              "\n",
              "[10 rows x 42 columns]"
            ],
            "text/html": [
              "\n",
              "  <div id=\"df-fe8034b6-2d1a-469e-92c7-af097f52cbd7\">\n",
              "    <div class=\"colab-df-container\">\n",
              "      <div>\n",
              "<style scoped>\n",
              "    .dataframe tbody tr th:only-of-type {\n",
              "        vertical-align: middle;\n",
              "    }\n",
              "\n",
              "    .dataframe tbody tr th {\n",
              "        vertical-align: top;\n",
              "    }\n",
              "\n",
              "    .dataframe thead th {\n",
              "        text-align: right;\n",
              "    }\n",
              "</style>\n",
              "<table border=\"1\" class=\"dataframe\">\n",
              "  <thead>\n",
              "    <tr style=\"text-align: right;\">\n",
              "      <th></th>\n",
              "      <th>duration</th>\n",
              "      <th>protocol_type</th>\n",
              "      <th>service</th>\n",
              "      <th>flag</th>\n",
              "      <th>src_bytes</th>\n",
              "      <th>dst_bytes</th>\n",
              "      <th>land</th>\n",
              "      <th>wrong_fragment</th>\n",
              "      <th>urgent</th>\n",
              "      <th>hot</th>\n",
              "      <th>...</th>\n",
              "      <th>dst_host_srv_count</th>\n",
              "      <th>dst_host_same_srv_rate</th>\n",
              "      <th>dst_host_diff_srv_rate</th>\n",
              "      <th>dst_host_same_src_port_rate</th>\n",
              "      <th>dst_host_srv_diff_host_rate</th>\n",
              "      <th>dst_host_serror_rate</th>\n",
              "      <th>dst_host_srv_serror_rate</th>\n",
              "      <th>dst_host_rerror_rate</th>\n",
              "      <th>dst_host_srv_rerror_rate</th>\n",
              "      <th>target</th>\n",
              "    </tr>\n",
              "  </thead>\n",
              "  <tbody>\n",
              "    <tr>\n",
              "      <th>42541</th>\n",
              "      <td>0</td>\n",
              "      <td>udp</td>\n",
              "      <td>domain_u</td>\n",
              "      <td>SF</td>\n",
              "      <td>46</td>\n",
              "      <td>134</td>\n",
              "      <td>0</td>\n",
              "      <td>0</td>\n",
              "      <td>0</td>\n",
              "      <td>0</td>\n",
              "      <td>...</td>\n",
              "      <td>255</td>\n",
              "      <td>1.00</td>\n",
              "      <td>0.00</td>\n",
              "      <td>0.00</td>\n",
              "      <td>0.00</td>\n",
              "      <td>0.0</td>\n",
              "      <td>0.0</td>\n",
              "      <td>0.00</td>\n",
              "      <td>0.0</td>\n",
              "      <td>normal</td>\n",
              "    </tr>\n",
              "    <tr>\n",
              "      <th>65862</th>\n",
              "      <td>0</td>\n",
              "      <td>tcp</td>\n",
              "      <td>ftp_data</td>\n",
              "      <td>SF</td>\n",
              "      <td>748</td>\n",
              "      <td>0</td>\n",
              "      <td>0</td>\n",
              "      <td>0</td>\n",
              "      <td>0</td>\n",
              "      <td>0</td>\n",
              "      <td>...</td>\n",
              "      <td>1</td>\n",
              "      <td>0.08</td>\n",
              "      <td>0.33</td>\n",
              "      <td>0.08</td>\n",
              "      <td>0.00</td>\n",
              "      <td>0.0</td>\n",
              "      <td>0.0</td>\n",
              "      <td>0.00</td>\n",
              "      <td>0.0</td>\n",
              "      <td>normal</td>\n",
              "    </tr>\n",
              "    <tr>\n",
              "      <th>12063</th>\n",
              "      <td>0</td>\n",
              "      <td>icmp</td>\n",
              "      <td>eco_i</td>\n",
              "      <td>SF</td>\n",
              "      <td>8</td>\n",
              "      <td>0</td>\n",
              "      <td>0</td>\n",
              "      <td>0</td>\n",
              "      <td>0</td>\n",
              "      <td>0</td>\n",
              "      <td>...</td>\n",
              "      <td>173</td>\n",
              "      <td>1.00</td>\n",
              "      <td>0.00</td>\n",
              "      <td>1.00</td>\n",
              "      <td>0.25</td>\n",
              "      <td>0.0</td>\n",
              "      <td>0.0</td>\n",
              "      <td>0.00</td>\n",
              "      <td>0.0</td>\n",
              "      <td>nmap</td>\n",
              "    </tr>\n",
              "    <tr>\n",
              "      <th>40621</th>\n",
              "      <td>0</td>\n",
              "      <td>tcp</td>\n",
              "      <td>telnet</td>\n",
              "      <td>S0</td>\n",
              "      <td>0</td>\n",
              "      <td>0</td>\n",
              "      <td>0</td>\n",
              "      <td>0</td>\n",
              "      <td>0</td>\n",
              "      <td>0</td>\n",
              "      <td>...</td>\n",
              "      <td>65</td>\n",
              "      <td>0.25</td>\n",
              "      <td>0.02</td>\n",
              "      <td>0.01</td>\n",
              "      <td>0.00</td>\n",
              "      <td>1.0</td>\n",
              "      <td>1.0</td>\n",
              "      <td>0.00</td>\n",
              "      <td>0.0</td>\n",
              "      <td>neptune</td>\n",
              "    </tr>\n",
              "    <tr>\n",
              "      <th>8712</th>\n",
              "      <td>0</td>\n",
              "      <td>tcp</td>\n",
              "      <td>private</td>\n",
              "      <td>S0</td>\n",
              "      <td>0</td>\n",
              "      <td>0</td>\n",
              "      <td>0</td>\n",
              "      <td>0</td>\n",
              "      <td>0</td>\n",
              "      <td>0</td>\n",
              "      <td>...</td>\n",
              "      <td>20</td>\n",
              "      <td>0.36</td>\n",
              "      <td>0.12</td>\n",
              "      <td>0.02</td>\n",
              "      <td>0.00</td>\n",
              "      <td>1.0</td>\n",
              "      <td>1.0</td>\n",
              "      <td>0.00</td>\n",
              "      <td>0.0</td>\n",
              "      <td>neptune</td>\n",
              "    </tr>\n",
              "    <tr>\n",
              "      <th>81874</th>\n",
              "      <td>3</td>\n",
              "      <td>tcp</td>\n",
              "      <td>finger</td>\n",
              "      <td>SF</td>\n",
              "      <td>9</td>\n",
              "      <td>224</td>\n",
              "      <td>0</td>\n",
              "      <td>0</td>\n",
              "      <td>0</td>\n",
              "      <td>0</td>\n",
              "      <td>...</td>\n",
              "      <td>5</td>\n",
              "      <td>0.02</td>\n",
              "      <td>0.02</td>\n",
              "      <td>0.00</td>\n",
              "      <td>0.00</td>\n",
              "      <td>0.0</td>\n",
              "      <td>0.0</td>\n",
              "      <td>0.02</td>\n",
              "      <td>0.0</td>\n",
              "      <td>normal</td>\n",
              "    </tr>\n",
              "    <tr>\n",
              "      <th>63799</th>\n",
              "      <td>0</td>\n",
              "      <td>tcp</td>\n",
              "      <td>other</td>\n",
              "      <td>OTH</td>\n",
              "      <td>0</td>\n",
              "      <td>0</td>\n",
              "      <td>0</td>\n",
              "      <td>0</td>\n",
              "      <td>0</td>\n",
              "      <td>0</td>\n",
              "      <td>...</td>\n",
              "      <td>1</td>\n",
              "      <td>0.00</td>\n",
              "      <td>1.00</td>\n",
              "      <td>1.00</td>\n",
              "      <td>0.00</td>\n",
              "      <td>0.0</td>\n",
              "      <td>0.0</td>\n",
              "      <td>0.99</td>\n",
              "      <td>0.0</td>\n",
              "      <td>portsweep</td>\n",
              "    </tr>\n",
              "    <tr>\n",
              "      <th>106685</th>\n",
              "      <td>0</td>\n",
              "      <td>icmp</td>\n",
              "      <td>ecr_i</td>\n",
              "      <td>SF</td>\n",
              "      <td>1032</td>\n",
              "      <td>0</td>\n",
              "      <td>0</td>\n",
              "      <td>0</td>\n",
              "      <td>0</td>\n",
              "      <td>0</td>\n",
              "      <td>...</td>\n",
              "      <td>255</td>\n",
              "      <td>1.00</td>\n",
              "      <td>0.00</td>\n",
              "      <td>1.00</td>\n",
              "      <td>0.00</td>\n",
              "      <td>0.0</td>\n",
              "      <td>0.0</td>\n",
              "      <td>0.00</td>\n",
              "      <td>0.0</td>\n",
              "      <td>smurf</td>\n",
              "    </tr>\n",
              "    <tr>\n",
              "      <th>51657</th>\n",
              "      <td>0</td>\n",
              "      <td>tcp</td>\n",
              "      <td>http</td>\n",
              "      <td>SF</td>\n",
              "      <td>201</td>\n",
              "      <td>535</td>\n",
              "      <td>0</td>\n",
              "      <td>0</td>\n",
              "      <td>0</td>\n",
              "      <td>0</td>\n",
              "      <td>...</td>\n",
              "      <td>255</td>\n",
              "      <td>1.00</td>\n",
              "      <td>0.00</td>\n",
              "      <td>0.00</td>\n",
              "      <td>0.00</td>\n",
              "      <td>0.0</td>\n",
              "      <td>0.0</td>\n",
              "      <td>0.00</td>\n",
              "      <td>0.0</td>\n",
              "      <td>normal</td>\n",
              "    </tr>\n",
              "    <tr>\n",
              "      <th>95115</th>\n",
              "      <td>0</td>\n",
              "      <td>tcp</td>\n",
              "      <td>imap4</td>\n",
              "      <td>S0</td>\n",
              "      <td>0</td>\n",
              "      <td>0</td>\n",
              "      <td>0</td>\n",
              "      <td>0</td>\n",
              "      <td>0</td>\n",
              "      <td>0</td>\n",
              "      <td>...</td>\n",
              "      <td>3</td>\n",
              "      <td>0.01</td>\n",
              "      <td>0.06</td>\n",
              "      <td>0.00</td>\n",
              "      <td>0.00</td>\n",
              "      <td>1.0</td>\n",
              "      <td>1.0</td>\n",
              "      <td>0.00</td>\n",
              "      <td>0.0</td>\n",
              "      <td>neptune</td>\n",
              "    </tr>\n",
              "  </tbody>\n",
              "</table>\n",
              "<p>10 rows × 42 columns</p>\n",
              "</div>\n",
              "      <button class=\"colab-df-convert\" onclick=\"convertToInteractive('df-fe8034b6-2d1a-469e-92c7-af097f52cbd7')\"\n",
              "              title=\"Convert this dataframe to an interactive table.\"\n",
              "              style=\"display:none;\">\n",
              "        \n",
              "  <svg xmlns=\"http://www.w3.org/2000/svg\" height=\"24px\"viewBox=\"0 0 24 24\"\n",
              "       width=\"24px\">\n",
              "    <path d=\"M0 0h24v24H0V0z\" fill=\"none\"/>\n",
              "    <path d=\"M18.56 5.44l.94 2.06.94-2.06 2.06-.94-2.06-.94-.94-2.06-.94 2.06-2.06.94zm-11 1L8.5 8.5l.94-2.06 2.06-.94-2.06-.94L8.5 2.5l-.94 2.06-2.06.94zm10 10l.94 2.06.94-2.06 2.06-.94-2.06-.94-.94-2.06-.94 2.06-2.06.94z\"/><path d=\"M17.41 7.96l-1.37-1.37c-.4-.4-.92-.59-1.43-.59-.52 0-1.04.2-1.43.59L10.3 9.45l-7.72 7.72c-.78.78-.78 2.05 0 2.83L4 21.41c.39.39.9.59 1.41.59.51 0 1.02-.2 1.41-.59l7.78-7.78 2.81-2.81c.8-.78.8-2.07 0-2.86zM5.41 20L4 18.59l7.72-7.72 1.47 1.35L5.41 20z\"/>\n",
              "  </svg>\n",
              "      </button>\n",
              "      \n",
              "  <style>\n",
              "    .colab-df-container {\n",
              "      display:flex;\n",
              "      flex-wrap:wrap;\n",
              "      gap: 12px;\n",
              "    }\n",
              "\n",
              "    .colab-df-convert {\n",
              "      background-color: #E8F0FE;\n",
              "      border: none;\n",
              "      border-radius: 50%;\n",
              "      cursor: pointer;\n",
              "      display: none;\n",
              "      fill: #1967D2;\n",
              "      height: 32px;\n",
              "      padding: 0 0 0 0;\n",
              "      width: 32px;\n",
              "    }\n",
              "\n",
              "    .colab-df-convert:hover {\n",
              "      background-color: #E2EBFA;\n",
              "      box-shadow: 0px 1px 2px rgba(60, 64, 67, 0.3), 0px 1px 3px 1px rgba(60, 64, 67, 0.15);\n",
              "      fill: #174EA6;\n",
              "    }\n",
              "\n",
              "    [theme=dark] .colab-df-convert {\n",
              "      background-color: #3B4455;\n",
              "      fill: #D2E3FC;\n",
              "    }\n",
              "\n",
              "    [theme=dark] .colab-df-convert:hover {\n",
              "      background-color: #434B5C;\n",
              "      box-shadow: 0px 1px 3px 1px rgba(0, 0, 0, 0.15);\n",
              "      filter: drop-shadow(0px 1px 2px rgba(0, 0, 0, 0.3));\n",
              "      fill: #FFFFFF;\n",
              "    }\n",
              "  </style>\n",
              "\n",
              "      <script>\n",
              "        const buttonEl =\n",
              "          document.querySelector('#df-fe8034b6-2d1a-469e-92c7-af097f52cbd7 button.colab-df-convert');\n",
              "        buttonEl.style.display =\n",
              "          google.colab.kernel.accessAllowed ? 'block' : 'none';\n",
              "\n",
              "        async function convertToInteractive(key) {\n",
              "          const element = document.querySelector('#df-fe8034b6-2d1a-469e-92c7-af097f52cbd7');\n",
              "          const dataTable =\n",
              "            await google.colab.kernel.invokeFunction('convertToInteractive',\n",
              "                                                     [key], {});\n",
              "          if (!dataTable) return;\n",
              "\n",
              "          const docLinkHtml = 'Like what you see? Visit the ' +\n",
              "            '<a target=\"_blank\" href=https://colab.research.google.com/notebooks/data_table.ipynb>data table notebook</a>'\n",
              "            + ' to learn more about interactive tables.';\n",
              "          element.innerHTML = '';\n",
              "          dataTable['output_type'] = 'display_data';\n",
              "          await google.colab.output.renderOutput(dataTable, element);\n",
              "          const docLink = document.createElement('div');\n",
              "          docLink.innerHTML = docLinkHtml;\n",
              "          element.appendChild(docLink);\n",
              "        }\n",
              "      </script>\n",
              "    </div>\n",
              "  </div>\n",
              "  "
            ]
          },
          "metadata": {},
          "execution_count": 5
        }
      ],
      "source": [
        "data_train.sample(10)"
      ]
    },
    {
      "cell_type": "code",
      "execution_count": 6,
      "id": "0c84b174",
      "metadata": {
        "id": "0c84b174"
      },
      "outputs": [],
      "source": [
        "# data_test.sample(10)"
      ]
    },
    {
      "cell_type": "code",
      "execution_count": 7,
      "id": "6871d2be",
      "metadata": {
        "id": "6871d2be"
      },
      "outputs": [],
      "source": [
        "# data_train.to_csv('new SVM train data.csv')"
      ]
    },
    {
      "cell_type": "markdown",
      "id": "67715daf",
      "metadata": {
        "id": "67715daf"
      },
      "source": [
        "# EDA"
      ]
    },
    {
      "cell_type": "markdown",
      "id": "7658e982",
      "metadata": {
        "id": "7658e982"
      },
      "source": [
        "## train data"
      ]
    },
    {
      "cell_type": "code",
      "execution_count": 8,
      "id": "271c59ad",
      "metadata": {
        "colab": {
          "base_uri": "https://localhost:8080/"
        },
        "id": "271c59ad",
        "outputId": "bf6a3da7-80d7-4e0e-ec13-8ff0e4885027"
      },
      "outputs": [
        {
          "output_type": "stream",
          "name": "stdout",
          "text": [
            "<class 'pandas.core.frame.DataFrame'>\n",
            "RangeIndex: 125973 entries, 0 to 125972\n",
            "Data columns (total 42 columns):\n",
            " #   Column                       Non-Null Count   Dtype  \n",
            "---  ------                       --------------   -----  \n",
            " 0   duration                     125973 non-null  int64  \n",
            " 1   protocol_type                125973 non-null  object \n",
            " 2   service                      125973 non-null  object \n",
            " 3   flag                         125973 non-null  object \n",
            " 4   src_bytes                    125973 non-null  int64  \n",
            " 5   dst_bytes                    125973 non-null  int64  \n",
            " 6   land                         125973 non-null  int64  \n",
            " 7   wrong_fragment               125973 non-null  int64  \n",
            " 8   urgent                       125973 non-null  int64  \n",
            " 9   hot                          125973 non-null  int64  \n",
            " 10  num_failed_logins            125973 non-null  int64  \n",
            " 11  logged_in                    125973 non-null  int64  \n",
            " 12  num_compromised              125973 non-null  int64  \n",
            " 13  root_shell                   125973 non-null  int64  \n",
            " 14  su_attempted                 125973 non-null  int64  \n",
            " 15  num_root                     125973 non-null  int64  \n",
            " 16  num_file_creations           125973 non-null  int64  \n",
            " 17  num_shells                   125973 non-null  int64  \n",
            " 18  num_access_files             125973 non-null  int64  \n",
            " 19  num_outbound_cmds            125973 non-null  int64  \n",
            " 20  is_host_login                125973 non-null  int64  \n",
            " 21  is_guest_login               125973 non-null  int64  \n",
            " 22  count                        125973 non-null  int64  \n",
            " 23  srv_count                    125973 non-null  int64  \n",
            " 24  serror_rate                  125973 non-null  float64\n",
            " 25  srv_serror_rate              125973 non-null  float64\n",
            " 26  rerror_rate                  125973 non-null  float64\n",
            " 27  srv_rerror_rate              125973 non-null  float64\n",
            " 28  same_srv_rate                125973 non-null  float64\n",
            " 29  diff_srv_rate                125973 non-null  float64\n",
            " 30  srv_diff_host_rate           125973 non-null  float64\n",
            " 31  dst_host_count               125973 non-null  int64  \n",
            " 32  dst_host_srv_count           125973 non-null  int64  \n",
            " 33  dst_host_same_srv_rate       125973 non-null  float64\n",
            " 34  dst_host_diff_srv_rate       125973 non-null  float64\n",
            " 35  dst_host_same_src_port_rate  125973 non-null  float64\n",
            " 36  dst_host_srv_diff_host_rate  125973 non-null  float64\n",
            " 37  dst_host_serror_rate         125973 non-null  float64\n",
            " 38  dst_host_srv_serror_rate     125973 non-null  float64\n",
            " 39  dst_host_rerror_rate         125973 non-null  float64\n",
            " 40  dst_host_srv_rerror_rate     125973 non-null  float64\n",
            " 41  target                       125973 non-null  object \n",
            "dtypes: float64(15), int64(23), object(4)\n",
            "memory usage: 40.4+ MB\n"
          ]
        }
      ],
      "source": [
        "data_train.info()"
      ]
    },
    {
      "cell_type": "code",
      "execution_count": 9,
      "id": "e264053e",
      "metadata": {
        "colab": {
          "base_uri": "https://localhost:8080/"
        },
        "id": "e264053e",
        "outputId": "10dd8040-eb54-47d2-c6ee-21b1dfd558fc"
      },
      "outputs": [
        {
          "output_type": "execute_result",
          "data": {
            "text/plain": [
              "(125973, 42)"
            ]
          },
          "metadata": {},
          "execution_count": 9
        }
      ],
      "source": [
        "data_train.shape"
      ]
    },
    {
      "cell_type": "markdown",
      "id": "6dc0d42f",
      "metadata": {
        "id": "6dc0d42f"
      },
      "source": [
        "### check for missing values"
      ]
    },
    {
      "cell_type": "code",
      "execution_count": 10,
      "id": "da6ccc89",
      "metadata": {
        "colab": {
          "base_uri": "https://localhost:8080/"
        },
        "id": "da6ccc89",
        "outputId": "38533f10-76f8-46e6-df9d-7be67f77833e"
      },
      "outputs": [
        {
          "output_type": "execute_result",
          "data": {
            "text/plain": [
              "duration                       0\n",
              "protocol_type                  0\n",
              "service                        0\n",
              "flag                           0\n",
              "src_bytes                      0\n",
              "dst_bytes                      0\n",
              "land                           0\n",
              "wrong_fragment                 0\n",
              "urgent                         0\n",
              "hot                            0\n",
              "num_failed_logins              0\n",
              "logged_in                      0\n",
              "num_compromised                0\n",
              "root_shell                     0\n",
              "su_attempted                   0\n",
              "num_root                       0\n",
              "num_file_creations             0\n",
              "num_shells                     0\n",
              "num_access_files               0\n",
              "num_outbound_cmds              0\n",
              "is_host_login                  0\n",
              "is_guest_login                 0\n",
              "count                          0\n",
              "srv_count                      0\n",
              "serror_rate                    0\n",
              "srv_serror_rate                0\n",
              "rerror_rate                    0\n",
              "srv_rerror_rate                0\n",
              "same_srv_rate                  0\n",
              "diff_srv_rate                  0\n",
              "srv_diff_host_rate             0\n",
              "dst_host_count                 0\n",
              "dst_host_srv_count             0\n",
              "dst_host_same_srv_rate         0\n",
              "dst_host_diff_srv_rate         0\n",
              "dst_host_same_src_port_rate    0\n",
              "dst_host_srv_diff_host_rate    0\n",
              "dst_host_serror_rate           0\n",
              "dst_host_srv_serror_rate       0\n",
              "dst_host_rerror_rate           0\n",
              "dst_host_srv_rerror_rate       0\n",
              "target                         0\n",
              "dtype: int64"
            ]
          },
          "metadata": {},
          "execution_count": 10
        }
      ],
      "source": [
        "data_train.isna().sum()"
      ]
    },
    {
      "cell_type": "markdown",
      "id": "f3369761",
      "metadata": {
        "id": "f3369761"
      },
      "source": [
        "> clear!"
      ]
    },
    {
      "cell_type": "markdown",
      "id": "3fb5e41a",
      "metadata": {
        "id": "3fb5e41a"
      },
      "source": [
        "### check for any duplications"
      ]
    },
    {
      "cell_type": "code",
      "execution_count": 11,
      "id": "89326fb9",
      "metadata": {
        "colab": {
          "base_uri": "https://localhost:8080/"
        },
        "id": "89326fb9",
        "outputId": "3a915d7f-8f59-4d98-94dd-51a16780a2d8"
      },
      "outputs": [
        {
          "output_type": "execute_result",
          "data": {
            "text/plain": [
              "0"
            ]
          },
          "metadata": {},
          "execution_count": 11
        }
      ],
      "source": [
        "data_train.duplicated().sum()"
      ]
    },
    {
      "cell_type": "markdown",
      "id": "6395889b",
      "metadata": {
        "id": "6395889b"
      },
      "source": [
        "> no duplicated rows"
      ]
    },
    {
      "cell_type": "markdown",
      "id": "84da276e",
      "metadata": {
        "id": "84da276e"
      },
      "source": [
        "### check unique values on each column"
      ]
    },
    {
      "cell_type": "code",
      "execution_count": 12,
      "id": "da09fa73",
      "metadata": {
        "colab": {
          "base_uri": "https://localhost:8080/"
        },
        "id": "da09fa73",
        "outputId": "dd72b04e-ca4e-4903-a2b5-e153049938da"
      },
      "outputs": [
        {
          "output_type": "execute_result",
          "data": {
            "text/plain": [
              "duration                       2981\n",
              "protocol_type                     3\n",
              "service                          70\n",
              "flag                             11\n",
              "src_bytes                      3341\n",
              "dst_bytes                      9326\n",
              "land                              2\n",
              "wrong_fragment                    3\n",
              "urgent                            4\n",
              "hot                              28\n",
              "num_failed_logins                 6\n",
              "logged_in                         2\n",
              "num_compromised                  88\n",
              "root_shell                        2\n",
              "su_attempted                      3\n",
              "num_root                         82\n",
              "num_file_creations               35\n",
              "num_shells                        3\n",
              "num_access_files                 10\n",
              "num_outbound_cmds                 1\n",
              "is_host_login                     2\n",
              "is_guest_login                    2\n",
              "count                           512\n",
              "srv_count                       509\n",
              "serror_rate                      89\n",
              "srv_serror_rate                  86\n",
              "rerror_rate                      82\n",
              "srv_rerror_rate                  62\n",
              "same_srv_rate                   101\n",
              "diff_srv_rate                    95\n",
              "srv_diff_host_rate               60\n",
              "dst_host_count                  256\n",
              "dst_host_srv_count              256\n",
              "dst_host_same_srv_rate          101\n",
              "dst_host_diff_srv_rate          101\n",
              "dst_host_same_src_port_rate     101\n",
              "dst_host_srv_diff_host_rate      75\n",
              "dst_host_serror_rate            101\n",
              "dst_host_srv_serror_rate        100\n",
              "dst_host_rerror_rate            101\n",
              "dst_host_srv_rerror_rate        101\n",
              "target                           23\n",
              "dtype: int64"
            ]
          },
          "metadata": {},
          "execution_count": 12
        }
      ],
      "source": [
        "data_train.nunique()"
      ]
    },
    {
      "cell_type": "code",
      "execution_count": 13,
      "id": "4c32ca17",
      "metadata": {
        "colab": {
          "base_uri": "https://localhost:8080/"
        },
        "id": "4c32ca17",
        "outputId": "deaf0242-7f7d-4abd-a71b-68e9d128462f"
      },
      "outputs": [
        {
          "output_type": "execute_result",
          "data": {
            "text/plain": [
              "Index(['duration                   ', 'protocol_type              ',\n",
              "       'service                    ', 'flag                       ',\n",
              "       'src_bytes                  ', 'dst_bytes                  ',\n",
              "       'land                       ', 'wrong_fragment             ',\n",
              "       'urgent                     ', 'hot                        ',\n",
              "       'num_failed_logins          ', 'logged_in                  ',\n",
              "       'num_compromised            ', 'root_shell                 ',\n",
              "       'su_attempted               ', 'num_root                   ',\n",
              "       'num_file_creations         ', 'num_shells                 ',\n",
              "       'num_access_files           ', 'num_outbound_cmds          ',\n",
              "       'is_host_login              ', 'is_guest_login             ',\n",
              "       'count                      ', 'srv_count                  ',\n",
              "       'serror_rate                ', 'srv_serror_rate            ',\n",
              "       'rerror_rate                ', 'srv_rerror_rate            ',\n",
              "       'same_srv_rate              ', 'diff_srv_rate              ',\n",
              "       'srv_diff_host_rate         ', 'dst_host_count             ',\n",
              "       'dst_host_srv_count         ', 'dst_host_same_srv_rate     ',\n",
              "       'dst_host_diff_srv_rate     ', 'dst_host_same_src_port_rate',\n",
              "       'dst_host_srv_diff_host_rate', 'dst_host_serror_rate       ',\n",
              "       'dst_host_srv_serror_rate   ', 'dst_host_rerror_rate       ',\n",
              "       'dst_host_srv_rerror_rate   ', 'target'],\n",
              "      dtype='object')"
            ]
          },
          "metadata": {},
          "execution_count": 13
        }
      ],
      "source": [
        "data_train.columns"
      ]
    },
    {
      "cell_type": "code",
      "source": [
        "data_train.columns = data_train.columns.str.strip()"
      ],
      "metadata": {
        "id": "GMf9G1iEJOCm"
      },
      "id": "GMf9G1iEJOCm",
      "execution_count": 14,
      "outputs": []
    },
    {
      "cell_type": "code",
      "execution_count": 15,
      "id": "70c67f60",
      "metadata": {
        "id": "70c67f60"
      },
      "outputs": [],
      "source": [
        "cat_data = data_train.select_dtypes('object')"
      ]
    },
    {
      "cell_type": "code",
      "execution_count": 16,
      "id": "3e460253",
      "metadata": {
        "colab": {
          "base_uri": "https://localhost:8080/",
          "height": 175
        },
        "id": "3e460253",
        "outputId": "aa6967ab-6cd7-44c4-b11b-2321da3c8209"
      },
      "outputs": [
        {
          "output_type": "execute_result",
          "data": {
            "text/plain": [
              "                count unique     top    freq\n",
              "protocol_type  125973      3     tcp  102689\n",
              "service        125973     70    http   40338\n",
              "flag           125973     11      SF   74945\n",
              "target         125973     23  normal   67343"
            ],
            "text/html": [
              "\n",
              "  <div id=\"df-d30ffc98-091e-4d99-b339-e0934c62746f\">\n",
              "    <div class=\"colab-df-container\">\n",
              "      <div>\n",
              "<style scoped>\n",
              "    .dataframe tbody tr th:only-of-type {\n",
              "        vertical-align: middle;\n",
              "    }\n",
              "\n",
              "    .dataframe tbody tr th {\n",
              "        vertical-align: top;\n",
              "    }\n",
              "\n",
              "    .dataframe thead th {\n",
              "        text-align: right;\n",
              "    }\n",
              "</style>\n",
              "<table border=\"1\" class=\"dataframe\">\n",
              "  <thead>\n",
              "    <tr style=\"text-align: right;\">\n",
              "      <th></th>\n",
              "      <th>count</th>\n",
              "      <th>unique</th>\n",
              "      <th>top</th>\n",
              "      <th>freq</th>\n",
              "    </tr>\n",
              "  </thead>\n",
              "  <tbody>\n",
              "    <tr>\n",
              "      <th>protocol_type</th>\n",
              "      <td>125973</td>\n",
              "      <td>3</td>\n",
              "      <td>tcp</td>\n",
              "      <td>102689</td>\n",
              "    </tr>\n",
              "    <tr>\n",
              "      <th>service</th>\n",
              "      <td>125973</td>\n",
              "      <td>70</td>\n",
              "      <td>http</td>\n",
              "      <td>40338</td>\n",
              "    </tr>\n",
              "    <tr>\n",
              "      <th>flag</th>\n",
              "      <td>125973</td>\n",
              "      <td>11</td>\n",
              "      <td>SF</td>\n",
              "      <td>74945</td>\n",
              "    </tr>\n",
              "    <tr>\n",
              "      <th>target</th>\n",
              "      <td>125973</td>\n",
              "      <td>23</td>\n",
              "      <td>normal</td>\n",
              "      <td>67343</td>\n",
              "    </tr>\n",
              "  </tbody>\n",
              "</table>\n",
              "</div>\n",
              "      <button class=\"colab-df-convert\" onclick=\"convertToInteractive('df-d30ffc98-091e-4d99-b339-e0934c62746f')\"\n",
              "              title=\"Convert this dataframe to an interactive table.\"\n",
              "              style=\"display:none;\">\n",
              "        \n",
              "  <svg xmlns=\"http://www.w3.org/2000/svg\" height=\"24px\"viewBox=\"0 0 24 24\"\n",
              "       width=\"24px\">\n",
              "    <path d=\"M0 0h24v24H0V0z\" fill=\"none\"/>\n",
              "    <path d=\"M18.56 5.44l.94 2.06.94-2.06 2.06-.94-2.06-.94-.94-2.06-.94 2.06-2.06.94zm-11 1L8.5 8.5l.94-2.06 2.06-.94-2.06-.94L8.5 2.5l-.94 2.06-2.06.94zm10 10l.94 2.06.94-2.06 2.06-.94-2.06-.94-.94-2.06-.94 2.06-2.06.94z\"/><path d=\"M17.41 7.96l-1.37-1.37c-.4-.4-.92-.59-1.43-.59-.52 0-1.04.2-1.43.59L10.3 9.45l-7.72 7.72c-.78.78-.78 2.05 0 2.83L4 21.41c.39.39.9.59 1.41.59.51 0 1.02-.2 1.41-.59l7.78-7.78 2.81-2.81c.8-.78.8-2.07 0-2.86zM5.41 20L4 18.59l7.72-7.72 1.47 1.35L5.41 20z\"/>\n",
              "  </svg>\n",
              "      </button>\n",
              "      \n",
              "  <style>\n",
              "    .colab-df-container {\n",
              "      display:flex;\n",
              "      flex-wrap:wrap;\n",
              "      gap: 12px;\n",
              "    }\n",
              "\n",
              "    .colab-df-convert {\n",
              "      background-color: #E8F0FE;\n",
              "      border: none;\n",
              "      border-radius: 50%;\n",
              "      cursor: pointer;\n",
              "      display: none;\n",
              "      fill: #1967D2;\n",
              "      height: 32px;\n",
              "      padding: 0 0 0 0;\n",
              "      width: 32px;\n",
              "    }\n",
              "\n",
              "    .colab-df-convert:hover {\n",
              "      background-color: #E2EBFA;\n",
              "      box-shadow: 0px 1px 2px rgba(60, 64, 67, 0.3), 0px 1px 3px 1px rgba(60, 64, 67, 0.15);\n",
              "      fill: #174EA6;\n",
              "    }\n",
              "\n",
              "    [theme=dark] .colab-df-convert {\n",
              "      background-color: #3B4455;\n",
              "      fill: #D2E3FC;\n",
              "    }\n",
              "\n",
              "    [theme=dark] .colab-df-convert:hover {\n",
              "      background-color: #434B5C;\n",
              "      box-shadow: 0px 1px 3px 1px rgba(0, 0, 0, 0.15);\n",
              "      filter: drop-shadow(0px 1px 2px rgba(0, 0, 0, 0.3));\n",
              "      fill: #FFFFFF;\n",
              "    }\n",
              "  </style>\n",
              "\n",
              "      <script>\n",
              "        const buttonEl =\n",
              "          document.querySelector('#df-d30ffc98-091e-4d99-b339-e0934c62746f button.colab-df-convert');\n",
              "        buttonEl.style.display =\n",
              "          google.colab.kernel.accessAllowed ? 'block' : 'none';\n",
              "\n",
              "        async function convertToInteractive(key) {\n",
              "          const element = document.querySelector('#df-d30ffc98-091e-4d99-b339-e0934c62746f');\n",
              "          const dataTable =\n",
              "            await google.colab.kernel.invokeFunction('convertToInteractive',\n",
              "                                                     [key], {});\n",
              "          if (!dataTable) return;\n",
              "\n",
              "          const docLinkHtml = 'Like what you see? Visit the ' +\n",
              "            '<a target=\"_blank\" href=https://colab.research.google.com/notebooks/data_table.ipynb>data table notebook</a>'\n",
              "            + ' to learn more about interactive tables.';\n",
              "          element.innerHTML = '';\n",
              "          dataTable['output_type'] = 'display_data';\n",
              "          await google.colab.output.renderOutput(dataTable, element);\n",
              "          const docLink = document.createElement('div');\n",
              "          docLink.innerHTML = docLinkHtml;\n",
              "          element.appendChild(docLink);\n",
              "        }\n",
              "      </script>\n",
              "    </div>\n",
              "  </div>\n",
              "  "
            ]
          },
          "metadata": {},
          "execution_count": 16
        }
      ],
      "source": [
        "cat_data.describe().T"
      ]
    },
    {
      "cell_type": "code",
      "execution_count": 17,
      "id": "4765ba11",
      "metadata": {
        "colab": {
          "base_uri": "https://localhost:8080/"
        },
        "id": "4765ba11",
        "outputId": "817df812-e2d2-4022-9743-abd165ed55f1"
      },
      "outputs": [
        {
          "output_type": "execute_result",
          "data": {
            "text/plain": [
              "normal             67343\n",
              "neptune            41214\n",
              "satan               3633\n",
              "ipsweep             3599\n",
              "portsweep           2931\n",
              "smurf               2646\n",
              "nmap                1493\n",
              "back                 956\n",
              "teardrop             892\n",
              "warezclient          890\n",
              "pod                  201\n",
              "guess_passwd          53\n",
              "buffer_overflow       30\n",
              "warezmaster           20\n",
              "land                  18\n",
              "imap                  11\n",
              "rootkit               10\n",
              "loadmodule             9\n",
              "ftp_write              8\n",
              "multihop               7\n",
              "phf                    4\n",
              "perl                   3\n",
              "spy                    2\n",
              "Name: target, dtype: int64"
            ]
          },
          "metadata": {},
          "execution_count": 17
        }
      ],
      "source": [
        "cat_data['target'].value_counts()"
      ]
    },
    {
      "cell_type": "code",
      "source": [
        "sns.set()\n",
        "plt.figure(figsize=(5,10))\n",
        "cat_data['target'].value_counts().plot(kind='barh')"
      ],
      "metadata": {
        "colab": {
          "base_uri": "https://localhost:8080/",
          "height": 611
        },
        "id": "MoXONxOiJ7Yc",
        "outputId": "b00e1323-6cbb-42b8-9a7e-3efda6798ab1"
      },
      "id": "MoXONxOiJ7Yc",
      "execution_count": 18,
      "outputs": [
        {
          "output_type": "execute_result",
          "data": {
            "text/plain": [
              "<matplotlib.axes._subplots.AxesSubplot at 0x7f7113057f90>"
            ]
          },
          "metadata": {},
          "execution_count": 18
        },
        {
          "output_type": "display_data",
          "data": {
            "text/plain": [
              "<Figure size 360x720 with 1 Axes>"
            ],
            "image/png": "[encoded data removed]"
          },
          "metadata": {}
        }
      ]
    },
    {
      "cell_type": "markdown",
      "source": [
        "> we have to decide whether its considered an atack or not (actack or normal ) ,so we can combine all atacks to be have one label  "
      ],
      "metadata": {
        "id": "9JPSTciBKieu"
      },
      "id": "9JPSTciBKieu"
    },
    {
      "cell_type": "code",
      "source": [
        "def filter_target(value):\n",
        "  if value != 'normal':\n",
        "    return 'atack'\n",
        "  else:\n",
        "    return value  "
      ],
      "metadata": {
        "id": "C-LCRQ2DLSpd"
      },
      "id": "C-LCRQ2DLSpd",
      "execution_count": 19,
      "outputs": []
    },
    {
      "cell_type": "code",
      "source": [
        "data_train['target'] = data_train['target'].apply(filter_target)"
      ],
      "metadata": {
        "id": "3B0uXpZNbMSD"
      },
      "id": "3B0uXpZNbMSD",
      "execution_count": 20,
      "outputs": []
    },
    {
      "cell_type": "code",
      "source": [
        "# for idx in range(len(data_train['target'])):\n",
        "#   # item = data_train['target'][idx]     \n",
        "#   # if item != 'normal':\n",
        "#   #   data_train['target'][idx] = 'atack'"
      ],
      "metadata": {
        "id": "LHCF8d1kKbd7"
      },
      "id": "LHCF8d1kKbd7",
      "execution_count": 21,
      "outputs": []
    },
    {
      "cell_type": "code",
      "source": [
        "data_train['target'].value_counts()"
      ],
      "metadata": {
        "colab": {
          "base_uri": "https://localhost:8080/"
        },
        "id": "tnqCxx7RJ4nU",
        "outputId": "a01e3d32-e2bc-4618-9b43-dbec76438df1"
      },
      "id": "tnqCxx7RJ4nU",
      "execution_count": 22,
      "outputs": [
        {
          "output_type": "execute_result",
          "data": {
            "text/plain": [
              "normal    67343\n",
              "atack     58630\n",
              "Name: target, dtype: int64"
            ]
          },
          "metadata": {},
          "execution_count": 22
        }
      ]
    },
    {
      "cell_type": "code",
      "source": [
        "sns.catplot(data=data_train, x='target', kind=\"count\", palette=\"ch:.25\")"
      ],
      "metadata": {
        "colab": {
          "base_uri": "https://localhost:8080/",
          "height": 382
        },
        "id": "riZAXDHeL9ua",
        "outputId": "bd777e10-c649-49e1-f919-cd714064d86d"
      },
      "id": "riZAXDHeL9ua",
      "execution_count": 23,
      "outputs": [
        {
          "output_type": "execute_result",
          "data": {
            "text/plain": [
              "<seaborn.axisgrid.FacetGrid at 0x7f7112f38510>"
            ]
          },
          "metadata": {},
          "execution_count": 23
        },
        {
          "output_type": "display_data",
          "data": {
            "text/plain": [
              "<Figure size 360x360 with 1 Axes>"
            ],
            "image/png": "[encoded data removed]"
          },
          "metadata": {}
        }
      ]
    },
    {
      "cell_type": "markdown",
      "source": [
        "> so our target now is not imbalanced and our models could train well!"
      ],
      "metadata": {
        "id": "lZBM7ppEMrOl"
      },
      "id": "lZBM7ppEMrOl"
    },
    {
      "cell_type": "markdown",
      "source": [
        "# categorical varaiables VS target col "
      ],
      "metadata": {
        "id": "B61awVpOkFl-"
      },
      "id": "B61awVpOkFl-"
    },
    {
      "cell_type": "code",
      "source": [
        "from scipy.stats import chi2_contingency"
      ],
      "metadata": {
        "id": "ChIwgIoWVAZd"
      },
      "id": "ChIwgIoWVAZd",
      "execution_count": 24,
      "outputs": []
    },
    {
      "cell_type": "code",
      "source": [
        "cat_data"
      ],
      "metadata": {
        "colab": {
          "base_uri": "https://localhost:8080/",
          "height": 424
        },
        "id": "uqEjCpVjVe5p",
        "outputId": "d77ca98d-2f1a-4bb4-d4fe-609096c3152f"
      },
      "id": "uqEjCpVjVe5p",
      "execution_count": 25,
      "outputs": [
        {
          "output_type": "execute_result",
          "data": {
            "text/plain": [
              "       protocol_type   service flag   target\n",
              "0                tcp  ftp_data   SF   normal\n",
              "1                udp     other   SF   normal\n",
              "2                tcp   private   S0  neptune\n",
              "3                tcp      http   SF   normal\n",
              "4                tcp      http   SF   normal\n",
              "...              ...       ...  ...      ...\n",
              "125968           tcp   private   S0  neptune\n",
              "125969           udp   private   SF   normal\n",
              "125970           tcp      smtp   SF   normal\n",
              "125971           tcp    klogin   S0  neptune\n",
              "125972           tcp  ftp_data   SF   normal\n",
              "\n",
              "[125973 rows x 4 columns]"
            ],
            "text/html": [
              "\n",
              "  <div id=\"df-4a466583-7a76-4e24-a63c-2ba37d62652b\">\n",
              "    <div class=\"colab-df-container\">\n",
              "      <div>\n",
              "<style scoped>\n",
              "    .dataframe tbody tr th:only-of-type {\n",
              "        vertical-align: middle;\n",
              "    }\n",
              "\n",
              "    .dataframe tbody tr th {\n",
              "        vertical-align: top;\n",
              "    }\n",
              "\n",
              "    .dataframe thead th {\n",
              "        text-align: right;\n",
              "    }\n",
              "</style>\n",
              "<table border=\"1\" class=\"dataframe\">\n",
              "  <thead>\n",
              "    <tr style=\"text-align: right;\">\n",
              "      <th></th>\n",
              "      <th>protocol_type</th>\n",
              "      <th>service</th>\n",
              "      <th>flag</th>\n",
              "      <th>target</th>\n",
              "    </tr>\n",
              "  </thead>\n",
              "  <tbody>\n",
              "    <tr>\n",
              "      <th>0</th>\n",
              "      <td>tcp</td>\n",
              "      <td>ftp_data</td>\n",
              "      <td>SF</td>\n",
              "      <td>normal</td>\n",
              "    </tr>\n",
              "    <tr>\n",
              "      <th>1</th>\n",
              "      <td>udp</td>\n",
              "      <td>other</td>\n",
              "      <td>SF</td>\n",
              "      <td>normal</td>\n",
              "    </tr>\n",
              "    <tr>\n",
              "      <th>2</th>\n",
              "      <td>tcp</td>\n",
              "      <td>private</td>\n",
              "      <td>S0</td>\n",
              "      <td>neptune</td>\n",
              "    </tr>\n",
              "    <tr>\n",
              "      <th>3</th>\n",
              "      <td>tcp</td>\n",
              "      <td>http</td>\n",
              "      <td>SF</td>\n",
              "      <td>normal</td>\n",
              "    </tr>\n",
              "    <tr>\n",
              "      <th>4</th>\n",
              "      <td>tcp</td>\n",
              "      <td>http</td>\n",
              "      <td>SF</td>\n",
              "      <td>normal</td>\n",
              "    </tr>\n",
              "    <tr>\n",
              "      <th>...</th>\n",
              "      <td>...</td>\n",
              "      <td>...</td>\n",
              "      <td>...</td>\n",
              "      <td>...</td>\n",
              "    </tr>\n",
              "    <tr>\n",
              "      <th>125968</th>\n",
              "      <td>tcp</td>\n",
              "      <td>private</td>\n",
              "      <td>S0</td>\n",
              "      <td>neptune</td>\n",
              "    </tr>\n",
              "    <tr>\n",
              "      <th>125969</th>\n",
              "      <td>udp</td>\n",
              "      <td>private</td>\n",
              "      <td>SF</td>\n",
              "      <td>normal</td>\n",
              "    </tr>\n",
              "    <tr>\n",
              "      <th>125970</th>\n",
              "      <td>tcp</td>\n",
              "      <td>smtp</td>\n",
              "      <td>SF</td>\n",
              "      <td>normal</td>\n",
              "    </tr>\n",
              "    <tr>\n",
              "      <th>125971</th>\n",
              "      <td>tcp</td>\n",
              "      <td>klogin</td>\n",
              "      <td>S0</td>\n",
              "      <td>neptune</td>\n",
              "    </tr>\n",
              "    <tr>\n",
              "      <th>125972</th>\n",
              "      <td>tcp</td>\n",
              "      <td>ftp_data</td>\n",
              "      <td>SF</td>\n",
              "      <td>normal</td>\n",
              "    </tr>\n",
              "  </tbody>\n",
              "</table>\n",
              "<p>125973 rows × 4 columns</p>\n",
              "</div>\n",
              "      <button class=\"colab-df-convert\" onclick=\"convertToInteractive('df-4a466583-7a76-4e24-a63c-2ba37d62652b')\"\n",
              "              title=\"Convert this dataframe to an interactive table.\"\n",
              "              style=\"display:none;\">\n",
              "        \n",
              "  <svg xmlns=\"http://www.w3.org/2000/svg\" height=\"24px\"viewBox=\"0 0 24 24\"\n",
              "       width=\"24px\">\n",
              "    <path d=\"M0 0h24v24H0V0z\" fill=\"none\"/>\n",
              "    <path d=\"M18.56 5.44l.94 2.06.94-2.06 2.06-.94-2.06-.94-.94-2.06-.94 2.06-2.06.94zm-11 1L8.5 8.5l.94-2.06 2.06-.94-2.06-.94L8.5 2.5l-.94 2.06-2.06.94zm10 10l.94 2.06.94-2.06 2.06-.94-2.06-.94-.94-2.06-.94 2.06-2.06.94z\"/><path d=\"M17.41 7.96l-1.37-1.37c-.4-.4-.92-.59-1.43-.59-.52 0-1.04.2-1.43.59L10.3 9.45l-7.72 7.72c-.78.78-.78 2.05 0 2.83L4 21.41c.39.39.9.59 1.41.59.51 0 1.02-.2 1.41-.59l7.78-7.78 2.81-2.81c.8-.78.8-2.07 0-2.86zM5.41 20L4 18.59l7.72-7.72 1.47 1.35L5.41 20z\"/>\n",
              "  </svg>\n",
              "      </button>\n",
              "      \n",
              "  <style>\n",
              "    .colab-df-container {\n",
              "      display:flex;\n",
              "      flex-wrap:wrap;\n",
              "      gap: 12px;\n",
              "    }\n",
              "\n",
              "    .colab-df-convert {\n",
              "      background-color: #E8F0FE;\n",
              "      border: none;\n",
              "      border-radius: 50%;\n",
              "      cursor: pointer;\n",
              "      display: none;\n",
              "      fill: #1967D2;\n",
              "      height: 32px;\n",
              "      padding: 0 0 0 0;\n",
              "      width: 32px;\n",
              "    }\n",
              "\n",
              "    .colab-df-convert:hover {\n",
              "      background-color: #E2EBFA;\n",
              "      box-shadow: 0px 1px 2px rgba(60, 64, 67, 0.3), 0px 1px 3px 1px rgba(60, 64, 67, 0.15);\n",
              "      fill: #174EA6;\n",
              "    }\n",
              "\n",
              "    [theme=dark] .colab-df-convert {\n",
              "      background-color: #3B4455;\n",
              "      fill: #D2E3FC;\n",
              "    }\n",
              "\n",
              "    [theme=dark] .colab-df-convert:hover {\n",
              "      background-color: #434B5C;\n",
              "      box-shadow: 0px 1px 3px 1px rgba(0, 0, 0, 0.15);\n",
              "      filter: drop-shadow(0px 1px 2px rgba(0, 0, 0, 0.3));\n",
              "      fill: #FFFFFF;\n",
              "    }\n",
              "  </style>\n",
              "\n",
              "      <script>\n",
              "        const buttonEl =\n",
              "          document.querySelector('#df-4a466583-7a76-4e24-a63c-2ba37d62652b button.colab-df-convert');\n",
              "        buttonEl.style.display =\n",
              "          google.colab.kernel.accessAllowed ? 'block' : 'none';\n",
              "\n",
              "        async function convertToInteractive(key) {\n",
              "          const element = document.querySelector('#df-4a466583-7a76-4e24-a63c-2ba37d62652b');\n",
              "          const dataTable =\n",
              "            await google.colab.kernel.invokeFunction('convertToInteractive',\n",
              "                                                     [key], {});\n",
              "          if (!dataTable) return;\n",
              "\n",
              "          const docLinkHtml = 'Like what you see? Visit the ' +\n",
              "            '<a target=\"_blank\" href=https://colab.research.google.com/notebooks/data_table.ipynb>data table notebook</a>'\n",
              "            + ' to learn more about interactive tables.';\n",
              "          element.innerHTML = '';\n",
              "          dataTable['output_type'] = 'display_data';\n",
              "          await google.colab.output.renderOutput(dataTable, element);\n",
              "          const docLink = document.createElement('div');\n",
              "          docLink.innerHTML = docLinkHtml;\n",
              "          element.appendChild(docLink);\n",
              "        }\n",
              "      </script>\n",
              "    </div>\n",
              "  </div>\n",
              "  "
            ]
          },
          "metadata": {},
          "execution_count": 25
        }
      ]
    },
    {
      "cell_type": "code",
      "source": [
        "def get_observation_table(X,cols):\n",
        "  # cols = ['tcp','udp','icmp','row_total']\n",
        "  table = pd.crosstab(data_train['target'],X,margins=True)\n",
        "  table.columns = cols\n",
        "  table.index = ['normal','atack','col_totals']\n",
        "  return table"
      ],
      "metadata": {
        "id": "pJw50OTxlwpQ"
      },
      "id": "pJw50OTxlwpQ",
      "execution_count": 26,
      "outputs": []
    },
    {
      "cell_type": "markdown",
      "source": [
        "## protocol_type VS target"
      ],
      "metadata": {
        "id": "L-9ptUlVkinL"
      },
      "id": "L-9ptUlVkinL"
    },
    {
      "cell_type": "code",
      "source": [
        "# chi-squared test for independence\n",
        "# df = cat_data[['protocol_type','target']]\n",
        "cols = ['tcp','udp','icmp','row_total']\n",
        "table = pd.crosstab(data_train['target'],data_train['protocol_type'],margins=True)\n",
        "table.columns = cols\n",
        "table.index = ['normal','atack','col_totals']"
      ],
      "metadata": {
        "id": "9zyAxYJ6VnoS"
      },
      "id": "9zyAxYJ6VnoS",
      "execution_count": 27,
      "outputs": []
    },
    {
      "cell_type": "code",
      "source": [
        "table"
      ],
      "metadata": {
        "colab": {
          "base_uri": "https://localhost:8080/",
          "height": 0
        },
        "id": "hipQjmI6cnzI",
        "outputId": "da05076f-3763-43cb-97a1-b6a9a5dbf22e"
      },
      "id": "hipQjmI6cnzI",
      "execution_count": 28,
      "outputs": [
        {
          "output_type": "execute_result",
          "data": {
            "text/plain": [
              "             tcp     udp   icmp  row_total\n",
              "normal      6982   49089   2559      58630\n",
              "atack       1309   53600  12434      67343\n",
              "col_totals  8291  102689  14993     125973"
            ],
            "text/html": [
              "\n",
              "  <div id=\"df-2f7e12d5-5a91-480d-8787-21898c6990da\">\n",
              "    <div class=\"colab-df-container\">\n",
              "      <div>\n",
              "<style scoped>\n",
              "    .dataframe tbody tr th:only-of-type {\n",
              "        vertical-align: middle;\n",
              "    }\n",
              "\n",
              "    .dataframe tbody tr th {\n",
              "        vertical-align: top;\n",
              "    }\n",
              "\n",
              "    .dataframe thead th {\n",
              "        text-align: right;\n",
              "    }\n",
              "</style>\n",
              "<table border=\"1\" class=\"dataframe\">\n",
              "  <thead>\n",
              "    <tr style=\"text-align: right;\">\n",
              "      <th></th>\n",
              "      <th>tcp</th>\n",
              "      <th>udp</th>\n",
              "      <th>icmp</th>\n",
              "      <th>row_total</th>\n",
              "    </tr>\n",
              "  </thead>\n",
              "  <tbody>\n",
              "    <tr>\n",
              "      <th>normal</th>\n",
              "      <td>6982</td>\n",
              "      <td>49089</td>\n",
              "      <td>2559</td>\n",
              "      <td>58630</td>\n",
              "    </tr>\n",
              "    <tr>\n",
              "      <th>atack</th>\n",
              "      <td>1309</td>\n",
              "      <td>53600</td>\n",
              "      <td>12434</td>\n",
              "      <td>67343</td>\n",
              "    </tr>\n",
              "    <tr>\n",
              "      <th>col_totals</th>\n",
              "      <td>8291</td>\n",
              "      <td>102689</td>\n",
              "      <td>14993</td>\n",
              "      <td>125973</td>\n",
              "    </tr>\n",
              "  </tbody>\n",
              "</table>\n",
              "</div>\n",
              "      <button class=\"colab-df-convert\" onclick=\"convertToInteractive('df-2f7e12d5-5a91-480d-8787-21898c6990da')\"\n",
              "              title=\"Convert this dataframe to an interactive table.\"\n",
              "              style=\"display:none;\">\n",
              "        \n",
              "  <svg xmlns=\"http://www.w3.org/2000/svg\" height=\"24px\"viewBox=\"0 0 24 24\"\n",
              "       width=\"24px\">\n",
              "    <path d=\"M0 0h24v24H0V0z\" fill=\"none\"/>\n",
              "    <path d=\"M18.56 5.44l.94 2.06.94-2.06 2.06-.94-2.06-.94-.94-2.06-.94 2.06-2.06.94zm-11 1L8.5 8.5l.94-2.06 2.06-.94-2.06-.94L8.5 2.5l-.94 2.06-2.06.94zm10 10l.94 2.06.94-2.06 2.06-.94-2.06-.94-.94-2.06-.94 2.06-2.06.94z\"/><path d=\"M17.41 7.96l-1.37-1.37c-.4-.4-.92-.59-1.43-.59-.52 0-1.04.2-1.43.59L10.3 9.45l-7.72 7.72c-.78.78-.78 2.05 0 2.83L4 21.41c.39.39.9.59 1.41.59.51 0 1.02-.2 1.41-.59l7.78-7.78 2.81-2.81c.8-.78.8-2.07 0-2.86zM5.41 20L4 18.59l7.72-7.72 1.47 1.35L5.41 20z\"/>\n",
              "  </svg>\n",
              "      </button>\n",
              "      \n",
              "  <style>\n",
              "    .colab-df-container {\n",
              "      display:flex;\n",
              "      flex-wrap:wrap;\n",
              "      gap: 12px;\n",
              "    }\n",
              "\n",
              "    .colab-df-convert {\n",
              "      background-color: #E8F0FE;\n",
              "      border: none;\n",
              "      border-radius: 50%;\n",
              "      cursor: pointer;\n",
              "      display: none;\n",
              "      fill: #1967D2;\n",
              "      height: 32px;\n",
              "      padding: 0 0 0 0;\n",
              "      width: 32px;\n",
              "    }\n",
              "\n",
              "    .colab-df-convert:hover {\n",
              "      background-color: #E2EBFA;\n",
              "      box-shadow: 0px 1px 2px rgba(60, 64, 67, 0.3), 0px 1px 3px 1px rgba(60, 64, 67, 0.15);\n",
              "      fill: #174EA6;\n",
              "    }\n",
              "\n",
              "    [theme=dark] .colab-df-convert {\n",
              "      background-color: #3B4455;\n",
              "      fill: #D2E3FC;\n",
              "    }\n",
              "\n",
              "    [theme=dark] .colab-df-convert:hover {\n",
              "      background-color: #434B5C;\n",
              "      box-shadow: 0px 1px 3px 1px rgba(0, 0, 0, 0.15);\n",
              "      filter: drop-shadow(0px 1px 2px rgba(0, 0, 0, 0.3));\n",
              "      fill: #FFFFFF;\n",
              "    }\n",
              "  </style>\n",
              "\n",
              "      <script>\n",
              "        const buttonEl =\n",
              "          document.querySelector('#df-2f7e12d5-5a91-480d-8787-21898c6990da button.colab-df-convert');\n",
              "        buttonEl.style.display =\n",
              "          google.colab.kernel.accessAllowed ? 'block' : 'none';\n",
              "\n",
              "        async function convertToInteractive(key) {\n",
              "          const element = document.querySelector('#df-2f7e12d5-5a91-480d-8787-21898c6990da');\n",
              "          const dataTable =\n",
              "            await google.colab.kernel.invokeFunction('convertToInteractive',\n",
              "                                                     [key], {});\n",
              "          if (!dataTable) return;\n",
              "\n",
              "          const docLinkHtml = 'Like what you see? Visit the ' +\n",
              "            '<a target=\"_blank\" href=https://colab.research.google.com/notebooks/data_table.ipynb>data table notebook</a>'\n",
              "            + ' to learn more about interactive tables.';\n",
              "          element.innerHTML = '';\n",
              "          dataTable['output_type'] = 'display_data';\n",
              "          await google.colab.output.renderOutput(dataTable, element);\n",
              "          const docLink = document.createElement('div');\n",
              "          docLink.innerHTML = docLinkHtml;\n",
              "          element.appendChild(docLink);\n",
              "        }\n",
              "      </script>\n",
              "    </div>\n",
              "  </div>\n",
              "  "
            ]
          },
          "metadata": {},
          "execution_count": 28
        }
      ]
    },
    {
      "cell_type": "code",
      "source": [
        "chi2_contingency(observed=table.iloc[0:2,:3],)"
      ],
      "metadata": {
        "colab": {
          "base_uri": "https://localhost:8080/"
        },
        "id": "vT10yPExWU0Q",
        "outputId": "174fb61e-37f9-4d25-df9e-832c2c727b3e"
      },
      "id": "vT10yPExWU0Q",
      "execution_count": 29,
      "outputs": [
        {
          "output_type": "execute_result",
          "data": {
            "text/plain": [
              "(10029.24862778463,\n",
              " 0.0,\n",
              " 2,\n",
              " array([[ 3858.77394362, 47793.22608813,  6977.99996825],\n",
              "        [ 4432.22605638, 54895.77391187,  8015.00003175]]))"
            ]
          },
          "metadata": {},
          "execution_count": 29
        }
      ]
    },
    {
      "cell_type": "markdown",
      "source": [
        "> since the p-value is equal to 0 , so we must reject our NULL hypothesis and accept that the dependency between the target and protocol_type"
      ],
      "metadata": {
        "id": "XZfNUXJLjpJj"
      },
      "id": "XZfNUXJLjpJj"
    },
    {
      "cell_type": "markdown",
      "source": [
        "## service VS target\n"
      ],
      "metadata": {
        "id": "qDb_6hyXk8rq"
      },
      "id": "qDb_6hyXk8rq"
    },
    {
      "cell_type": "code",
      "source": [
        "data_train['service'].value_counts()"
      ],
      "metadata": {
        "colab": {
          "base_uri": "https://localhost:8080/"
        },
        "id": "gSTfLLBpk7T9",
        "outputId": "3a04ebfa-6f42-497f-ffdd-cac27a25ba3d"
      },
      "id": "gSTfLLBpk7T9",
      "execution_count": 30,
      "outputs": [
        {
          "output_type": "execute_result",
          "data": {
            "text/plain": [
              "http         40338\n",
              "private      21853\n",
              "domain_u      9043\n",
              "smtp          7313\n",
              "ftp_data      6860\n",
              "             ...  \n",
              "tftp_u           3\n",
              "http_8001        2\n",
              "aol              2\n",
              "harvest          2\n",
              "http_2784        1\n",
              "Name: service, Length: 70, dtype: int64"
            ]
          },
          "metadata": {},
          "execution_count": 30
        }
      ]
    },
    {
      "cell_type": "code",
      "source": [
        "cols = data_train['service'].unique()\n",
        "list_cols = list(cols)\n",
        "list_cols.append('total_rows')\n",
        "print(list_cols)"
      ],
      "metadata": {
        "colab": {
          "base_uri": "https://localhost:8080/"
        },
        "id": "mdA-yopXmOWZ",
        "outputId": "e76d981f-7ea7-4bc0-c4de-f6298a487413"
      },
      "id": "mdA-yopXmOWZ",
      "execution_count": 31,
      "outputs": [
        {
          "output_type": "stream",
          "name": "stdout",
          "text": [
            "['ftp_data', 'other', 'private', 'http', 'remote_job', 'name', 'netbios_ns', 'eco_i', 'mtp', 'telnet', 'finger', 'domain_u', 'supdup', 'uucp_path', 'Z39_50', 'smtp', 'csnet_ns', 'uucp', 'netbios_dgm', 'urp_i', 'auth', 'domain', 'ftp', 'bgp', 'ldap', 'ecr_i', 'gopher', 'vmnet', 'systat', 'http_443', 'efs', 'whois', 'imap4', 'iso_tsap', 'echo', 'klogin', 'link', 'sunrpc', 'login', 'kshell', 'sql_net', 'time', 'hostnames', 'exec', 'ntp_u', 'discard', 'nntp', 'courier', 'ctf', 'ssh', 'daytime', 'shell', 'netstat', 'pop_3', 'nnsp', 'IRC', 'pop_2', 'printer', 'tim_i', 'pm_dump', 'red_i', 'netbios_ssn', 'rje', 'X11', 'urh_i', 'http_8001', 'aol', 'http_2784', 'tftp_u', 'harvest', 'total_rows']\n"
          ]
        }
      ]
    },
    {
      "cell_type": "code",
      "source": [
        "table_service = get_observation_table(data_train['service'],list_cols)"
      ],
      "metadata": {
        "id": "RYc1FiRflXMp"
      },
      "id": "RYc1FiRflXMp",
      "execution_count": 32,
      "outputs": []
    },
    {
      "cell_type": "code",
      "source": [
        "chiq,p_value,dof,_= chi2_contingency(observed=table.iloc[:-1,:-1])\n",
        "p_value"
      ],
      "metadata": {
        "colab": {
          "base_uri": "https://localhost:8080/"
        },
        "id": "y-ZuI9nu6XwG",
        "outputId": "3c7e8f21-7abd-49ba-f872-a54b21a0dc08"
      },
      "id": "y-ZuI9nu6XwG",
      "execution_count": 33,
      "outputs": [
        {
          "output_type": "execute_result",
          "data": {
            "text/plain": [
              "0.0"
            ]
          },
          "metadata": {},
          "execution_count": 33
        }
      ]
    },
    {
      "cell_type": "markdown",
      "source": [
        "## Flag VS target"
      ],
      "metadata": {
        "id": "AV07by5M7Qrd"
      },
      "id": "AV07by5M7Qrd"
    },
    {
      "cell_type": "code",
      "source": [
        "data_train['flag'].value_counts()"
      ],
      "metadata": {
        "colab": {
          "base_uri": "https://localhost:8080/"
        },
        "id": "HafS7cJQ7OWR",
        "outputId": "97daa36f-29d9-412d-ec67-3c810de77576"
      },
      "id": "HafS7cJQ7OWR",
      "execution_count": 34,
      "outputs": [
        {
          "output_type": "execute_result",
          "data": {
            "text/plain": [
              "SF        74945\n",
              "S0        34851\n",
              "REJ       11233\n",
              "RSTR       2421\n",
              "RSTO       1562\n",
              "S1          365\n",
              "SH          271\n",
              "S2          127\n",
              "RSTOS0      103\n",
              "S3           49\n",
              "OTH          46\n",
              "Name: flag, dtype: int64"
            ]
          },
          "metadata": {},
          "execution_count": 34
        }
      ]
    },
    {
      "cell_type": "code",
      "source": [
        "cols = list(data_train['flag'].unique())\n",
        "cols.append('total_rows')\n",
        "table_flag = get_observation_table(data_train['flag'],cols)  \n",
        "chiq,p_value,_,_= chi2_contingency(observed=table_flag.iloc[:-1,:-1])\n",
        "print(p_value)"
      ],
      "metadata": {
        "colab": {
          "base_uri": "https://localhost:8080/"
        },
        "id": "xprBK0207ZyC",
        "outputId": "eefd21d7-e8e5-4f2f-f2fb-8605f353af69"
      },
      "id": "xprBK0207ZyC",
      "execution_count": 35,
      "outputs": [
        {
          "output_type": "stream",
          "name": "stdout",
          "text": [
            "0.0\n"
          ]
        }
      ]
    },
    {
      "cell_type": "markdown",
      "source": [
        "# comment:\n",
        " <p> we have show that all categorical variables have relation between the target col by using p-value from chi-square test which is equal 0 for all tests</p>\n"
      ],
      "metadata": {
        "id": "a2ePpClc83UH"
      },
      "id": "a2ePpClc83UH"
    },
    {
      "cell_type": "markdown",
      "source": [
        "# Encoding data"
      ],
      "metadata": {
        "id": "Chv0bgspC5mX"
      },
      "id": "Chv0bgspC5mX"
    },
    {
      "cell_type": "code",
      "source": [
        "from sklearn.preprocessing import LabelEncoder"
      ],
      "metadata": {
        "id": "rmjJF4tTDAEr"
      },
      "id": "rmjJF4tTDAEr",
      "execution_count": 36,
      "outputs": []
    },
    {
      "cell_type": "code",
      "source": [
        "inputs = data_train.drop(['target'],axis=1)\n",
        "target = data_train['target']\n",
        "print(inputs.columns)"
      ],
      "metadata": {
        "id": "fodjxEYtDlV_",
        "colab": {
          "base_uri": "https://localhost:8080/"
        },
        "outputId": "5232f543-6b95-45cd-addd-d23ef7c20fa0"
      },
      "id": "fodjxEYtDlV_",
      "execution_count": 37,
      "outputs": [
        {
          "output_type": "stream",
          "name": "stdout",
          "text": [
            "Index(['duration', 'protocol_type', 'service', 'flag', 'src_bytes',\n",
            "       'dst_bytes', 'land', 'wrong_fragment', 'urgent', 'hot',\n",
            "       'num_failed_logins', 'logged_in', 'num_compromised', 'root_shell',\n",
            "       'su_attempted', 'num_root', 'num_file_creations', 'num_shells',\n",
            "       'num_access_files', 'num_outbound_cmds', 'is_host_login',\n",
            "       'is_guest_login', 'count', 'srv_count', 'serror_rate',\n",
            "       'srv_serror_rate', 'rerror_rate', 'srv_rerror_rate', 'same_srv_rate',\n",
            "       'diff_srv_rate', 'srv_diff_host_rate', 'dst_host_count',\n",
            "       'dst_host_srv_count', 'dst_host_same_srv_rate',\n",
            "       'dst_host_diff_srv_rate', 'dst_host_same_src_port_rate',\n",
            "       'dst_host_srv_diff_host_rate', 'dst_host_serror_rate',\n",
            "       'dst_host_srv_serror_rate', 'dst_host_rerror_rate',\n",
            "       'dst_host_srv_rerror_rate'],\n",
            "      dtype='object')\n"
          ]
        }
      ]
    },
    {
      "cell_type": "code",
      "source": [
        "inputs.nunique()"
      ],
      "metadata": {
        "colab": {
          "base_uri": "https://localhost:8080/"
        },
        "id": "iIzrmTKSRrjA",
        "outputId": "01897da8-8ae1-46c2-bceb-44b116b886d2"
      },
      "id": "iIzrmTKSRrjA",
      "execution_count": 38,
      "outputs": [
        {
          "output_type": "execute_result",
          "data": {
            "text/plain": [
              "duration                       2981\n",
              "protocol_type                     3\n",
              "service                          70\n",
              "flag                             11\n",
              "src_bytes                      3341\n",
              "dst_bytes                      9326\n",
              "land                              2\n",
              "wrong_fragment                    3\n",
              "urgent                            4\n",
              "hot                              28\n",
              "num_failed_logins                 6\n",
              "logged_in                         2\n",
              "num_compromised                  88\n",
              "root_shell                        2\n",
              "su_attempted                      3\n",
              "num_root                         82\n",
              "num_file_creations               35\n",
              "num_shells                        3\n",
              "num_access_files                 10\n",
              "num_outbound_cmds                 1\n",
              "is_host_login                     2\n",
              "is_guest_login                    2\n",
              "count                           512\n",
              "srv_count                       509\n",
              "serror_rate                      89\n",
              "srv_serror_rate                  86\n",
              "rerror_rate                      82\n",
              "srv_rerror_rate                  62\n",
              "same_srv_rate                   101\n",
              "diff_srv_rate                    95\n",
              "srv_diff_host_rate               60\n",
              "dst_host_count                  256\n",
              "dst_host_srv_count              256\n",
              "dst_host_same_srv_rate          101\n",
              "dst_host_diff_srv_rate          101\n",
              "dst_host_same_src_port_rate     101\n",
              "dst_host_srv_diff_host_rate      75\n",
              "dst_host_serror_rate            101\n",
              "dst_host_srv_serror_rate        100\n",
              "dst_host_rerror_rate            101\n",
              "dst_host_srv_rerror_rate        101\n",
              "dtype: int64"
            ]
          },
          "metadata": {},
          "execution_count": 38
        }
      ]
    },
    {
      "cell_type": "code",
      "source": [
        "inputs.drop('num_outbound_cmds',axis=1,inplace=True)"
      ],
      "metadata": {
        "id": "WW8MDiybSLAV"
      },
      "id": "WW8MDiybSLAV",
      "execution_count": 39,
      "outputs": []
    },
    {
      "cell_type": "code",
      "source": [
        "# label_target = LabelEncoder()\n",
        "target = target.map({'normal':0,'atack':1})\n"
      ],
      "metadata": {
        "id": "j8FK8hNqSeJ6"
      },
      "id": "j8FK8hNqSeJ6",
      "execution_count": 40,
      "outputs": []
    },
    {
      "cell_type": "code",
      "source": [
        "label_flag = LabelEncoder()\n",
        "inputs['flag'] = label_flag.fit_transform(inputs['flag'])\n",
        "label_serives = LabelEncoder()\n",
        "inputs['service'] = label_serives.fit_transform(inputs['flag'])"
      ],
      "metadata": {
        "id": "_S4hu6vHSz7v"
      },
      "id": "_S4hu6vHSz7v",
      "execution_count": 41,
      "outputs": []
    },
    {
      "cell_type": "code",
      "source": [
        "# inputs.drop('protocol_type',axis=1,inplace=True)\n",
        "# cat_data = inputs.select_dtypes('object')\n",
        "# cat_data\n"
      ],
      "metadata": {
        "id": "92Nkl9Ik-C08"
      },
      "id": "92Nkl9Ik-C08",
      "execution_count": 42,
      "outputs": []
    },
    {
      "cell_type": "code",
      "source": [],
      "metadata": {
        "id": "yHDqf9LVA8-T"
      },
      "id": "yHDqf9LVA8-T",
      "execution_count": 42,
      "outputs": []
    },
    {
      "cell_type": "code",
      "source": [],
      "metadata": {
        "id": "0FDqMMkr_MZ_"
      },
      "id": "0FDqMMkr_MZ_",
      "execution_count": 42,
      "outputs": []
    },
    {
      "cell_type": "code",
      "source": [
        "dummi_protocol = pd.get_dummies(inputs['protocol_type'],drop_first=True)\n",
        "inputs = pd.concat([inputs,dummi_protocol],axis=1)\n",
        "inputs.drop('protocol_type',axis=1,inplace=True)"
      ],
      "metadata": {
        "id": "q5MfjFv5GV1U"
      },
      "id": "q5MfjFv5GV1U",
      "execution_count": 43,
      "outputs": []
    },
    {
      "cell_type": "code",
      "source": [
        "inputs.columns"
      ],
      "metadata": {
        "id": "y27fjbtuDl8c",
        "colab": {
          "base_uri": "https://localhost:8080/"
        },
        "outputId": "1cda0fb7-fc59-4a98-b638-61bdaf3c4541"
      },
      "id": "y27fjbtuDl8c",
      "execution_count": 44,
      "outputs": [
        {
          "output_type": "execute_result",
          "data": {
            "text/plain": [
              "Index(['duration', 'service', 'flag', 'src_bytes', 'dst_bytes', 'land',\n",
              "       'wrong_fragment', 'urgent', 'hot', 'num_failed_logins', 'logged_in',\n",
              "       'num_compromised', 'root_shell', 'su_attempted', 'num_root',\n",
              "       'num_file_creations', 'num_shells', 'num_access_files', 'is_host_login',\n",
              "       'is_guest_login', 'count', 'srv_count', 'serror_rate',\n",
              "       'srv_serror_rate', 'rerror_rate', 'srv_rerror_rate', 'same_srv_rate',\n",
              "       'diff_srv_rate', 'srv_diff_host_rate', 'dst_host_count',\n",
              "       'dst_host_srv_count', 'dst_host_same_srv_rate',\n",
              "       'dst_host_diff_srv_rate', 'dst_host_same_src_port_rate',\n",
              "       'dst_host_srv_diff_host_rate', 'dst_host_serror_rate',\n",
              "       'dst_host_srv_serror_rate', 'dst_host_rerror_rate',\n",
              "       'dst_host_srv_rerror_rate', 'tcp', 'udp'],\n",
              "      dtype='object')"
            ]
          },
          "metadata": {},
          "execution_count": 44
        }
      ]
    },
    {
      "cell_type": "code",
      "source": [
        "inputs['service'].dtype"
      ],
      "metadata": {
        "colab": {
          "base_uri": "https://localhost:8080/"
        },
        "id": "X22gAKooKGdu",
        "outputId": "6204c995-a870-44c3-ff53-37afd9bede6e"
      },
      "id": "X22gAKooKGdu",
      "execution_count": 45,
      "outputs": [
        {
          "output_type": "execute_result",
          "data": {
            "text/plain": [
              "dtype('int64')"
            ]
          },
          "metadata": {},
          "execution_count": 45
        }
      ]
    },
    {
      "cell_type": "code",
      "source": [
        "from scipy.stats import pearsonr\n",
        "# calculate Pearson's correlation\n",
        "correlated_with_target = []\n",
        "for col in inputs.columns:\n",
        "  if inputs[col].dtype != 'O':\n",
        "    corr, _ = pearsonr(inputs[str(col)].values, target)\n",
        "    print(f'{col}  ------>        {corr:.2f}')\n",
        "    if corr > 0.1:\n",
        "      # print(f'{col} corr with target ------>{corr:.2f}')\n",
        "      correlated_with_target.append(col)\n",
        "# corr1, _ = pearsonr(inputs['tcp'], target)\n",
        "# corr2 ,_ = pearsonr(inputs['udp'], target)\n",
        "# print(corr1,corr2)"
      ],
      "metadata": {
        "colab": {
          "base_uri": "https://localhost:8080/"
        },
        "id": "Akznf6TPDmQU",
        "outputId": "8f53c9ad-d58d-4e36-e77b-b2930d7d9ee3"
      },
      "id": "Akznf6TPDmQU",
      "execution_count": 159,
      "outputs": [
        {
          "output_type": "stream",
          "name": "stdout",
          "text": [
            "duration  ------>        0.05\n",
            "service  ------>        -0.65\n",
            "flag  ------>        -0.65\n",
            "src_bytes  ------>        0.01\n",
            "dst_bytes  ------>        0.00\n",
            "land  ------>        0.01\n",
            "wrong_fragment  ------>        0.10\n",
            "urgent  ------>        -0.00\n",
            "hot  ------>        -0.01\n",
            "num_failed_logins  ------>        -0.00\n",
            "logged_in  ------>        -0.69\n",
            "num_compromised  ------>        -0.01\n",
            "root_shell  ------>        -0.02\n",
            "su_attempted  ------>        -0.02\n",
            "num_root  ------>        -0.01\n",
            "num_file_creations  ------>        -0.02\n",
            "num_shells  ------>        -0.01\n",
            "num_access_files  ------>        -0.04\n",
            "is_host_login  ------>        -0.00\n",
            "is_guest_login  ------>        -0.04\n",
            "count  ------>        0.58\n",
            "srv_count  ------>        0.00\n",
            "serror_rate  ------>        0.65\n",
            "srv_serror_rate  ------>        0.65\n",
            "rerror_rate  ------>        0.25\n",
            "srv_rerror_rate  ------>        0.25\n",
            "same_srv_rate  ------>        -0.75\n",
            "diff_srv_rate  ------>        0.20\n",
            "srv_diff_host_rate  ------>        -0.12\n",
            "dst_host_count  ------>        0.38\n",
            "dst_host_srv_count  ------>        -0.72\n",
            "dst_host_same_srv_rate  ------>        -0.69\n",
            "dst_host_diff_srv_rate  ------>        0.24\n",
            "dst_host_same_src_port_rate  ------>        0.09\n",
            "dst_host_srv_diff_host_rate  ------>        0.06\n",
            "dst_host_serror_rate  ------>        0.65\n",
            "dst_host_srv_serror_rate  ------>        0.65\n",
            "dst_host_rerror_rate  ------>        0.25\n",
            "dst_host_srv_rerror_rate  ------>        0.25\n",
            "tcp  ------>        0.05\n",
            "udp  ------>        -0.22\n"
          ]
        }
      ]
    },
    {
      "cell_type": "code",
      "source": [
        "correlated_with_target"
      ],
      "metadata": {
        "colab": {
          "base_uri": "https://localhost:8080/"
        },
        "id": "SOziBHnYcVHL",
        "outputId": "b675755d-3d89-4346-d134-eda56c5de42c"
      },
      "id": "SOziBHnYcVHL",
      "execution_count": 160,
      "outputs": [
        {
          "output_type": "execute_result",
          "data": {
            "text/plain": [
              "['count',\n",
              " 'serror_rate',\n",
              " 'srv_serror_rate',\n",
              " 'rerror_rate',\n",
              " 'srv_rerror_rate',\n",
              " 'diff_srv_rate',\n",
              " 'dst_host_count',\n",
              " 'dst_host_diff_srv_rate',\n",
              " 'dst_host_serror_rate',\n",
              " 'dst_host_srv_serror_rate',\n",
              " 'dst_host_rerror_rate',\n",
              " 'dst_host_srv_rerror_rate']"
            ]
          },
          "metadata": {},
          "execution_count": 160
        }
      ]
    },
    {
      "cell_type": "code",
      "source": [
        "features = inputs[correlated_with_target]\n",
        "features.max()"
      ],
      "metadata": {
        "colab": {
          "base_uri": "https://localhost:8080/"
        },
        "id": "HUBVoLCOqzMN",
        "outputId": "51c5d0a1-a94c-4a9a-ad83-a3a4a76a027a"
      },
      "id": "HUBVoLCOqzMN",
      "execution_count": 161,
      "outputs": [
        {
          "output_type": "execute_result",
          "data": {
            "text/plain": [
              "count                       511.0\n",
              "serror_rate                   1.0\n",
              "srv_serror_rate               1.0\n",
              "rerror_rate                   1.0\n",
              "srv_rerror_rate               1.0\n",
              "diff_srv_rate                 1.0\n",
              "dst_host_count              255.0\n",
              "dst_host_diff_srv_rate        1.0\n",
              "dst_host_serror_rate          1.0\n",
              "dst_host_srv_serror_rate      1.0\n",
              "dst_host_rerror_rate          1.0\n",
              "dst_host_srv_rerror_rate      1.0\n",
              "dtype: float64"
            ]
          },
          "metadata": {},
          "execution_count": 161
        }
      ]
    },
    {
      "cell_type": "code",
      "source": [
        "features.min()"
      ],
      "metadata": {
        "colab": {
          "base_uri": "https://localhost:8080/"
        },
        "id": "ehy50Jioq-Nw",
        "outputId": "d8d119fd-230e-4c27-bbed-a51bb2a72178"
      },
      "id": "ehy50Jioq-Nw",
      "execution_count": 162,
      "outputs": [
        {
          "output_type": "execute_result",
          "data": {
            "text/plain": [
              "count                       0.0\n",
              "serror_rate                 0.0\n",
              "srv_serror_rate             0.0\n",
              "rerror_rate                 0.0\n",
              "srv_rerror_rate             0.0\n",
              "diff_srv_rate               0.0\n",
              "dst_host_count              0.0\n",
              "dst_host_diff_srv_rate      0.0\n",
              "dst_host_serror_rate        0.0\n",
              "dst_host_srv_serror_rate    0.0\n",
              "dst_host_rerror_rate        0.0\n",
              "dst_host_srv_rerror_rate    0.0\n",
              "dtype: float64"
            ]
          },
          "metadata": {},
          "execution_count": 162
        }
      ]
    },
    {
      "cell_type": "code",
      "source": [
        "from sklearn.preprocessing import MinMaxScaler\n",
        "scaler = MinMaxScaler()\n",
        "features[['count','dst_host_count']] = scaler.fit_transform(features[['count','dst_host_count']])"
      ],
      "metadata": {
        "colab": {
          "base_uri": "https://localhost:8080/"
        },
        "id": "ktK-75STrCws",
        "outputId": "d5a1e4c9-13e4-41a3-f817-b95425b6439e"
      },
      "id": "ktK-75STrCws",
      "execution_count": 163,
      "outputs": [
        {
          "output_type": "stream",
          "name": "stderr",
          "text": [
            "/usr/local/lib/python3.7/dist-packages/pandas/core/frame.py:3678: SettingWithCopyWarning: \n",
            "A value is trying to be set on a copy of a slice from a DataFrame.\n",
            "Try using .loc[row_indexer,col_indexer] = value instead\n",
            "\n",
            "See the caveats in the documentation: https://pandas.pydata.org/pandas-docs/stable/user_guide/indexing.html#returning-a-view-versus-a-copy\n",
            "  self[col] = igetitem(value, i)\n"
          ]
        }
      ]
    },
    {
      "cell_type": "code",
      "source": [
        "features.max()"
      ],
      "metadata": {
        "colab": {
          "base_uri": "https://localhost:8080/"
        },
        "id": "fXydNwq5sJZb",
        "outputId": "22efb798-978a-4f08-8260-022f4a01099d"
      },
      "id": "fXydNwq5sJZb",
      "execution_count": 140,
      "outputs": [
        {
          "output_type": "execute_result",
          "data": {
            "text/plain": [
              "count                       1.0\n",
              "serror_rate                 1.0\n",
              "srv_serror_rate             1.0\n",
              "dst_host_serror_rate        1.0\n",
              "dst_host_srv_serror_rate    1.0\n",
              "dtype: float64"
            ]
          },
          "metadata": {},
          "execution_count": 140
        }
      ]
    },
    {
      "cell_type": "markdown",
      "id": "988bb8cf",
      "metadata": {
        "id": "988bb8cf"
      },
      "source": [
        "# split data"
      ]
    },
    {
      "cell_type": "code",
      "execution_count": 47,
      "id": "dbe414f7",
      "metadata": {
        "id": "dbe414f7"
      },
      "outputs": [],
      "source": [
        "from sklearn.model_selection import train_test_split"
      ]
    },
    {
      "cell_type": "code",
      "execution_count": 164,
      "id": "d2dd5c65",
      "metadata": {
        "id": "d2dd5c65"
      },
      "outputs": [],
      "source": [
        "# features = inputs[correlated_with_target]\n",
        "x_train,x_test,y_train,y_test = train_test_split(features,target,random_state=365,test_size=0.2,stratify=target)"
      ]
    },
    {
      "cell_type": "code",
      "source": [
        "print(f'x_train: {x_train.shape}')\n",
        "print(f'y_train: {y_train.shape}')\n",
        "print(f'x_test : {x_test.shape}')\n",
        "print(f'y_test : {y_test.shape}')\n"
      ],
      "metadata": {
        "colab": {
          "base_uri": "https://localhost:8080/"
        },
        "id": "sdxequY1UfSP",
        "outputId": "058edcaf-d84f-4694-f15a-c1c728887c52"
      },
      "id": "sdxequY1UfSP",
      "execution_count": 165,
      "outputs": [
        {
          "output_type": "stream",
          "name": "stdout",
          "text": [
            "x_train: (100778, 12)\n",
            "y_train: (100778,)\n",
            "x_test : (25195, 12)\n",
            "y_test : (25195,)\n"
          ]
        }
      ]
    },
    {
      "cell_type": "markdown",
      "source": [
        "# Modelling"
      ],
      "metadata": {
        "id": "NZIINa8FUyaC"
      },
      "id": "NZIINa8FUyaC"
    },
    {
      "cell_type": "code",
      "source": [
        "from sklearn.svm import SVC\n",
        "from sklearn.ensemble import BaggingClassifier, RandomForestClassifier\n",
        "from sklearn.multiclass import OneVsRestClassifier\n",
        "\n",
        "from sklearn.model_selection import GridSearchCV,RandomizedSearchCV\n",
        "from sklearn.neighbors import KNeighborsClassifier\n",
        "\n",
        "from sklearn.metrics import ConfusionMatrixDisplay,confusion_matrix,classification_report\n",
        "from sklearn.tree import DecisionTreeClassifier\n",
        "from sklearn.ensemble import RandomForestClassifier"
      ],
      "metadata": {
        "id": "p-zAbp77Ufeo"
      },
      "id": "p-zAbp77Ufeo",
      "execution_count": 99,
      "outputs": []
    },
    {
      "cell_type": "markdown",
      "source": [
        "## KNN\n"
      ],
      "metadata": {
        "id": "iA2WKfaRio7S"
      },
      "id": "iA2WKfaRio7S"
    },
    {
      "cell_type": "code",
      "source": [
        "parameters = {'n_neighbors':[25,50,75],'weights':['uniform','distance']}\n",
        "grid_search  = GridSearchCV(estimator=KNeighborsClassifier(),param_grid=parameters,\n",
        "                           scoring='accuracy',n_jobs=-1)"
      ],
      "metadata": {
        "id": "LYGJ5u-sdn9L"
      },
      "id": "LYGJ5u-sdn9L",
      "execution_count": 166,
      "outputs": []
    },
    {
      "cell_type": "code",
      "source": [
        "grid_search.fit(x_train,y_train)"
      ],
      "metadata": {
        "colab": {
          "base_uri": "https://localhost:8080/"
        },
        "id": "JZfnwJpAd0IA",
        "outputId": "4a16f2e5-0be4-4d71-b826-526e5e5add33"
      },
      "id": "JZfnwJpAd0IA",
      "execution_count": 167,
      "outputs": [
        {
          "output_type": "execute_result",
          "data": {
            "text/plain": [
              "GridSearchCV(estimator=KNeighborsClassifier(), n_jobs=-1,\n",
              "             param_grid={'n_neighbors': [25, 50, 75],\n",
              "                         'weights': ['uniform', 'distance']},\n",
              "             scoring='accuracy')"
            ]
          },
          "metadata": {},
          "execution_count": 167
        }
      ]
    },
    {
      "cell_type": "code",
      "source": [
        "grid_search.best_estimator_"
      ],
      "metadata": {
        "colab": {
          "base_uri": "https://localhost:8080/"
        },
        "id": "7PSm5CVjefEb",
        "outputId": "86eec7e9-be28-4f37-982c-3fe0f8b7f298"
      },
      "id": "7PSm5CVjefEb",
      "execution_count": 168,
      "outputs": [
        {
          "output_type": "execute_result",
          "data": {
            "text/plain": [
              "KNeighborsClassifier(n_neighbors=25, weights='distance')"
            ]
          },
          "metadata": {},
          "execution_count": 168
        }
      ]
    },
    {
      "cell_type": "code",
      "source": [
        "grid_search.best_score_"
      ],
      "metadata": {
        "colab": {
          "base_uri": "https://localhost:8080/"
        },
        "id": "RG9BELrxekWn",
        "outputId": "d8b1195d-c6ec-4479-f1a0-a5ea62b0bebf"
      },
      "id": "RG9BELrxekWn",
      "execution_count": 90,
      "outputs": [
        {
          "output_type": "execute_result",
          "data": {
            "text/plain": [
              "0.865635349655963"
            ]
          },
          "metadata": {},
          "execution_count": 90
        }
      ]
    },
    {
      "cell_type": "code",
      "source": [
        "knn = KNeighborsClassifier(n_neighbors=25, weights='distance')"
      ],
      "metadata": {
        "id": "HQ37pY_kesUG"
      },
      "id": "HQ37pY_kesUG",
      "execution_count": 169,
      "outputs": []
    },
    {
      "cell_type": "code",
      "source": [
        "knn.fit(x_train,y_train)"
      ],
      "metadata": {
        "colab": {
          "base_uri": "https://localhost:8080/"
        },
        "id": "38IIzTxVesLc",
        "outputId": "f570ba69-dc51-4bdc-a362-851ae658da82"
      },
      "id": "38IIzTxVesLc",
      "execution_count": 170,
      "outputs": [
        {
          "output_type": "execute_result",
          "data": {
            "text/plain": [
              "KNeighborsClassifier(n_neighbors=25, weights='distance')"
            ]
          },
          "metadata": {},
          "execution_count": 170
        }
      ]
    },
    {
      "cell_type": "code",
      "source": [
        "knn.score(x_train,y_train)"
      ],
      "metadata": {
        "colab": {
          "base_uri": "https://localhost:8080/"
        },
        "id": "l4nIvB1QesCA",
        "outputId": "bc3a3b1b-dbed-40ce-da21-3e832625b9bd"
      },
      "id": "l4nIvB1QesCA",
      "execution_count": 171,
      "outputs": [
        {
          "output_type": "execute_result",
          "data": {
            "text/plain": [
              "0.9754708368890036"
            ]
          },
          "metadata": {},
          "execution_count": 171
        }
      ]
    },
    {
      "cell_type": "code",
      "source": [
        "knn.score(x_test,y_test)"
      ],
      "metadata": {
        "colab": {
          "base_uri": "https://localhost:8080/"
        },
        "id": "TLKnVaXTeria",
        "outputId": "67923d37-fb00-4c84-bbaf-e6809a38e81d"
      },
      "id": "TLKnVaXTeria",
      "execution_count": 172,
      "outputs": [
        {
          "output_type": "execute_result",
          "data": {
            "text/plain": [
              "0.9644373883707085"
            ]
          },
          "metadata": {},
          "execution_count": 172
        }
      ]
    },
    {
      "cell_type": "code",
      "source": [
        "y_pred = knn.predict(x_test)\n"
      ],
      "metadata": {
        "id": "ZxWoqogifTMT"
      },
      "id": "ZxWoqogifTMT",
      "execution_count": 173,
      "outputs": []
    },
    {
      "cell_type": "code",
      "source": [
        "sns.set()\n",
        "ConfusionMatrixDisplay.from_predictions(y_test,y_pred,labels=knn.classes_)"
      ],
      "metadata": {
        "colab": {
          "base_uri": "https://localhost:8080/",
          "height": 302
        },
        "id": "NYZp9JMUfTFy",
        "outputId": "4af2b38d-86ee-44f5-b810-cee6b22831a8"
      },
      "id": "NYZp9JMUfTFy",
      "execution_count": 174,
      "outputs": [
        {
          "output_type": "execute_result",
          "data": {
            "text/plain": [
              "<sklearn.metrics._plot.confusion_matrix.ConfusionMatrixDisplay at 0x7f710ba42ad0>"
            ]
          },
          "metadata": {},
          "execution_count": 174
        },
        {
          "output_type": "display_data",
          "data": {
            "text/plain": [
              "<Figure size 432x288 with 2 Axes>"
            ],
            "image/png": "[encoded data removed]"
          },
          "metadata": {}
        }
      ]
    },
    {
      "cell_type": "code",
      "source": [
        "print(classification_report(y_pred=y_pred,y_true=y_test))"
      ],
      "metadata": {
        "colab": {
          "base_uri": "https://localhost:8080/"
        },
        "id": "QxXSqc_5fS_q",
        "outputId": "34d8c161-ab1d-446c-9d9d-bd235ff3f8ea"
      },
      "id": "QxXSqc_5fS_q",
      "execution_count": 175,
      "outputs": [
        {
          "output_type": "stream",
          "name": "stdout",
          "text": [
            "              precision    recall  f1-score   support\n",
            "\n",
            "           0       0.96      0.97      0.97     13469\n",
            "           1       0.97      0.95      0.96     11726\n",
            "\n",
            "    accuracy                           0.96     25195\n",
            "   macro avg       0.96      0.96      0.96     25195\n",
            "weighted avg       0.96      0.96      0.96     25195\n",
            "\n"
          ]
        }
      ]
    },
    {
      "cell_type": "markdown",
      "source": [
        "## Random Forest"
      ],
      "metadata": {
        "id": "M3pNFlYdit5x"
      },
      "id": "M3pNFlYdit5x"
    },
    {
      "cell_type": "code",
      "source": [
        "RandomForestClassifier().get_params()"
      ],
      "metadata": {
        "colab": {
          "base_uri": "https://localhost:8080/"
        },
        "id": "nQvSrfull73k",
        "outputId": "67d8996c-2032-48a4-f9a9-54fdb5e7dd64"
      },
      "id": "nQvSrfull73k",
      "execution_count": 179,
      "outputs": [
        {
          "output_type": "execute_result",
          "data": {
            "text/plain": [
              "{'bootstrap': True,\n",
              " 'ccp_alpha': 0.0,\n",
              " 'class_weight': None,\n",
              " 'criterion': 'gini',\n",
              " 'max_depth': None,\n",
              " 'max_features': 'auto',\n",
              " 'max_leaf_nodes': None,\n",
              " 'max_samples': None,\n",
              " 'min_impurity_decrease': 0.0,\n",
              " 'min_samples_leaf': 1,\n",
              " 'min_samples_split': 2,\n",
              " 'min_weight_fraction_leaf': 0.0,\n",
              " 'n_estimators': 100,\n",
              " 'n_jobs': None,\n",
              " 'oob_score': False,\n",
              " 'random_state': None,\n",
              " 'verbose': 0,\n",
              " 'warm_start': False}"
            ]
          },
          "metadata": {},
          "execution_count": 179
        }
      ]
    },
    {
      "cell_type": "code",
      "source": [
        "# help(RandomForestClassifier())"
      ],
      "metadata": {
        "id": "Gbtnu3Hf4OBM"
      },
      "id": "Gbtnu3Hf4OBM",
      "execution_count": 192,
      "outputs": []
    },
    {
      "cell_type": "code",
      "source": [
        "# SVC().get_params()"
      ],
      "metadata": {
        "id": "F8AnTeu0n27h"
      },
      "id": "F8AnTeu0n27h",
      "execution_count": 180,
      "outputs": []
    },
    {
      "cell_type": "code",
      "source": [
        "parameters = {'n_estimators': range(1,151),\n",
        "              'max_depth':range(1,12),\n",
        "              'max_features' : [\"auto\", \"sqrt\", \"log2\"]\n",
        "              ,'bootstrap':[True,False]\n",
        "              }\n",
        "randm_src = RandomizedSearchCV(estimator=RandomForestClassifier(random_state=365), param_distributions = parameters,\n",
        "                               cv = 2, n_iter = 100, n_jobs=-1)"
      ],
      "metadata": {
        "id": "ioOvTDBo3psd"
      },
      "id": "ioOvTDBo3psd",
      "execution_count": 183,
      "outputs": []
    },
    {
      "cell_type": "code",
      "source": [
        "randm_src.fit(x_train,y_train)"
      ],
      "metadata": {
        "colab": {
          "base_uri": "https://localhost:8080/"
        },
        "id": "NUxsJYEE4yrX",
        "outputId": "477f6a52-7248-440a-d56c-c96153a9b6af"
      },
      "id": "NUxsJYEE4yrX",
      "execution_count": 184,
      "outputs": [
        {
          "output_type": "execute_result",
          "data": {
            "text/plain": [
              "RandomizedSearchCV(cv=2, estimator=RandomForestClassifier(random_state=365),\n",
              "                   n_iter=100, n_jobs=-1,\n",
              "                   param_distributions={'bootstrap': [True, False],\n",
              "                                        'max_depth': range(1, 12),\n",
              "                                        'max_features': ['auto', 'sqrt',\n",
              "                                                         'log2'],\n",
              "                                        'n_estimators': range(1, 151)})"
            ]
          },
          "metadata": {},
          "execution_count": 184
        }
      ]
    },
    {
      "cell_type": "code",
      "source": [
        "randm_src.best_estimator_"
      ],
      "metadata": {
        "colab": {
          "base_uri": "https://localhost:8080/"
        },
        "id": "ZV930YH94yhf",
        "outputId": "cc9a2048-df6a-4844-9de2-86cbc6d2ef83"
      },
      "id": "ZV930YH94yhf",
      "execution_count": 185,
      "outputs": [
        {
          "output_type": "execute_result",
          "data": {
            "text/plain": [
              "RandomForestClassifier(bootstrap=False, max_depth=11, max_features='sqrt',\n",
              "                       n_estimators=142, random_state=365)"
            ]
          },
          "metadata": {},
          "execution_count": 185
        }
      ]
    },
    {
      "cell_type": "code",
      "source": [
        "randFor = RandomForestClassifier(bootstrap=False, max_depth=11, max_features='sqrt',\n",
        "                       n_estimators=142, random_state=365)"
      ],
      "metadata": {
        "id": "Y1hD4Gdq4yZY"
      },
      "id": "Y1hD4Gdq4yZY",
      "execution_count": 186,
      "outputs": []
    },
    {
      "cell_type": "code",
      "source": [
        "randm_src.score(x_train,y_train)"
      ],
      "metadata": {
        "colab": {
          "base_uri": "https://localhost:8080/"
        },
        "id": "DntyYQ6f4ySn",
        "outputId": "495863d1-ca63-4f5f-9187-e5b37e8603af"
      },
      "id": "DntyYQ6f4ySn",
      "execution_count": 187,
      "outputs": [
        {
          "output_type": "execute_result",
          "data": {
            "text/plain": [
              "0.9633848657445078"
            ]
          },
          "metadata": {},
          "execution_count": 187
        }
      ]
    },
    {
      "cell_type": "code",
      "source": [
        "randm_src.score(x_test,y_test)"
      ],
      "metadata": {
        "colab": {
          "base_uri": "https://localhost:8080/"
        },
        "id": "Z_y4zNux4yJC",
        "outputId": "20635fde-9f21-401f-ea0a-c44effcfd9e9"
      },
      "id": "Z_y4zNux4yJC",
      "execution_count": 188,
      "outputs": [
        {
          "output_type": "execute_result",
          "data": {
            "text/plain": [
              "0.9623337963881723"
            ]
          },
          "metadata": {},
          "execution_count": 188
        }
      ]
    },
    {
      "cell_type": "code",
      "source": [
        "sns.set()\n",
        "y_pred = randm_src.predict(x_test)\n",
        "ConfusionMatrixDisplay.from_predictions(y_pred=y_pred,y_true=y_test,labels=randm_src.classes_)"
      ],
      "metadata": {
        "colab": {
          "base_uri": "https://localhost:8080/",
          "height": 302
        },
        "id": "UUqjFEPu4x9A",
        "outputId": "b0b9af1f-44f4-45c7-ae24-4bc953694829"
      },
      "id": "UUqjFEPu4x9A",
      "execution_count": 191,
      "outputs": [
        {
          "output_type": "execute_result",
          "data": {
            "text/plain": [
              "<sklearn.metrics._plot.confusion_matrix.ConfusionMatrixDisplay at 0x7f710b994250>"
            ]
          },
          "metadata": {},
          "execution_count": 191
        },
        {
          "output_type": "display_data",
          "data": {
            "text/plain": [
              "<Figure size 432x288 with 2 Axes>"
            ],
            "image/png": "[encoded data removed]"
          },
          "metadata": {}
        }
      ]
    },
    {
      "cell_type": "code",
      "source": [
        "print(classification_report(y_pred=y_pred,y_true=y_test))"
      ],
      "metadata": {
        "colab": {
          "base_uri": "https://localhost:8080/"
        },
        "id": "MmVlYpAw7HYx",
        "outputId": "7a437bc6-105d-44a2-f598-e509fd882a45"
      },
      "id": "MmVlYpAw7HYx",
      "execution_count": 190,
      "outputs": [
        {
          "output_type": "stream",
          "name": "stdout",
          "text": [
            "              precision    recall  f1-score   support\n",
            "\n",
            "           0       0.95      0.98      0.97     13469\n",
            "           1       0.98      0.94      0.96     11726\n",
            "\n",
            "    accuracy                           0.96     25195\n",
            "   macro avg       0.96      0.96      0.96     25195\n",
            "weighted avg       0.96      0.96      0.96     25195\n",
            "\n"
          ]
        }
      ]
    },
    {
      "cell_type": "code",
      "source": [],
      "metadata": {
        "id": "3LqdNFS2Ufs1"
      },
      "id": "3LqdNFS2Ufs1",
      "execution_count": 55,
      "outputs": []
    },
    {
      "cell_type": "markdown",
      "source": [
        "## SVM"
      ],
      "metadata": {
        "id": "zIaMoXe3Dgpg"
      },
      "id": "zIaMoXe3Dgpg"
    },
    {
      "cell_type": "code",
      "source": [
        "svm_model = SVC(kernel='rbf',C=1,random_state=365)"
      ],
      "metadata": {
        "id": "wzPCHxvKDjrK"
      },
      "id": "wzPCHxvKDjrK",
      "execution_count": 194,
      "outputs": []
    },
    {
      "cell_type": "code",
      "source": [
        "svm_model.fit(x_train,y_train)"
      ],
      "metadata": {
        "colab": {
          "base_uri": "https://localhost:8080/"
        },
        "id": "1olyIywyDj5l",
        "outputId": "c2e44521-9eb2-489e-b49f-8523bc6cbdba"
      },
      "id": "1olyIywyDj5l",
      "execution_count": 195,
      "outputs": [
        {
          "output_type": "execute_result",
          "data": {
            "text/plain": [
              "SVC(C=1)"
            ]
          },
          "metadata": {},
          "execution_count": 195
        }
      ]
    },
    {
      "cell_type": "code",
      "source": [
        "svm_model.score(x_train,y_train)"
      ],
      "metadata": {
        "colab": {
          "base_uri": "https://localhost:8080/"
        },
        "id": "FQL_y9n6DkA_",
        "outputId": "dc531727-6c5e-4961-e023-8bbda1a58d3f"
      },
      "id": "FQL_y9n6DkA_",
      "execution_count": 196,
      "outputs": [
        {
          "output_type": "execute_result",
          "data": {
            "text/plain": [
              "0.9284069935898708"
            ]
          },
          "metadata": {},
          "execution_count": 196
        }
      ]
    },
    {
      "cell_type": "code",
      "source": [
        "svm_model.score(x_test,y_test)"
      ],
      "metadata": {
        "colab": {
          "base_uri": "https://localhost:8080/"
        },
        "id": "4rLqYG4MDkHF",
        "outputId": "b64269ae-2eef-4453-a27a-d1d29fc161c5"
      },
      "id": "4rLqYG4MDkHF",
      "execution_count": 197,
      "outputs": [
        {
          "output_type": "execute_result",
          "data": {
            "text/plain": [
              "0.9278031355427664"
            ]
          },
          "metadata": {},
          "execution_count": 197
        }
      ]
    },
    {
      "cell_type": "code",
      "source": [
        "y_pred = svm_model.predict(x_test)"
      ],
      "metadata": {
        "id": "VGmsHcJIFdFK"
      },
      "id": "VGmsHcJIFdFK",
      "execution_count": 199,
      "outputs": []
    },
    {
      "cell_type": "code",
      "source": [
        "sns.set()\n",
        "# y_pred = randm_src.predict(x_test)\n",
        "ConfusionMatrixDisplay.from_predictions(y_pred=y_pred,y_true=y_test,labels=svm_model.classes_)"
      ],
      "metadata": {
        "colab": {
          "base_uri": "https://localhost:8080/",
          "height": 302
        },
        "id": "P0GkiQ40FrL8",
        "outputId": "195074c9-4d36-4c6d-876d-9a831fe5d853"
      },
      "id": "P0GkiQ40FrL8",
      "execution_count": 200,
      "outputs": [
        {
          "output_type": "execute_result",
          "data": {
            "text/plain": [
              "<sklearn.metrics._plot.confusion_matrix.ConfusionMatrixDisplay at 0x7f710b8ba790>"
            ]
          },
          "metadata": {},
          "execution_count": 200
        },
        {
          "output_type": "display_data",
          "data": {
            "text/plain": [
              "<Figure size 432x288 with 2 Axes>"
            ],
            "image/png": "[encoded data removed]"
          },
          "metadata": {}
        }
      ]
    },
    {
      "cell_type": "code",
      "source": [
        "print(classification_report(y_pred=y_pred,y_true=y_test))"
      ],
      "metadata": {
        "colab": {
          "base_uri": "https://localhost:8080/"
        },
        "id": "tZQxw3aAF1HC",
        "outputId": "60b24f7e-3ca0-49fa-ece4-767e1d9c34f6"
      },
      "id": "tZQxw3aAF1HC",
      "execution_count": 201,
      "outputs": [
        {
          "output_type": "stream",
          "name": "stdout",
          "text": [
            "              precision    recall  f1-score   support\n",
            "\n",
            "           0       0.88      1.00      0.94     13469\n",
            "           1       1.00      0.85      0.92     11726\n",
            "\n",
            "    accuracy                           0.93     25195\n",
            "   macro avg       0.94      0.92      0.93     25195\n",
            "weighted avg       0.94      0.93      0.93     25195\n",
            "\n"
          ]
        }
      ]
    },
    {
      "cell_type": "markdown",
      "source": [
        "### Tunning the C-parameter using GridSearch or RandomizedSearch"
      ],
      "metadata": {
        "id": "3GioJ9N0GP__"
      },
      "id": "3GioJ9N0GP__"
    },
    {
      "cell_type": "code",
      "source": [
        "parameters = {'C':[10,50,70,100]}\n",
        "randm_src = RandomizedSearchCV(estimator=SVC(random_state=365), param_distributions = parameters,\n",
        "                               cv = 2, n_iter = 100, n_jobs=-1)"
      ],
      "metadata": {
        "id": "afx3VhxNF-Hf"
      },
      "id": "afx3VhxNF-Hf",
      "execution_count": 202,
      "outputs": []
    },
    {
      "cell_type": "code",
      "source": [
        "randm_src.fit(x_train,y_train)"
      ],
      "metadata": {
        "colab": {
          "base_uri": "https://localhost:8080/"
        },
        "id": "xeqf0I7jGwYV",
        "outputId": "333c10ee-5ae1-4741-ab09-8f490c7c4a2e"
      },
      "id": "xeqf0I7jGwYV",
      "execution_count": 203,
      "outputs": [
        {
          "output_type": "stream",
          "name": "stderr",
          "text": [
            "/usr/local/lib/python3.7/dist-packages/sklearn/model_selection/_search.py:296: UserWarning: The total space of parameters 4 is smaller than n_iter=100. Running 4 iterations. For exhaustive searches, use GridSearchCV.\n",
            "  UserWarning,\n"
          ]
        },
        {
          "output_type": "execute_result",
          "data": {
            "text/plain": [
              "RandomizedSearchCV(cv=2, estimator=SVC(random_state=365), n_iter=100, n_jobs=-1,\n",
              "                   param_distributions={'C': [10, 50, 70, 100]})"
            ]
          },
          "metadata": {},
          "execution_count": 203
        }
      ]
    },
    {
      "cell_type": "code",
      "source": [
        "randm_src.score(x_train,y_train)"
      ],
      "metadata": {
        "colab": {
          "base_uri": "https://localhost:8080/"
        },
        "id": "TGS7mjB3GzOc",
        "outputId": "f73a176f-b7d3-488b-827a-4a056f2dae15"
      },
      "id": "TGS7mjB3GzOc",
      "execution_count": 204,
      "outputs": [
        {
          "output_type": "execute_result",
          "data": {
            "text/plain": [
              "0.9483716684196948"
            ]
          },
          "metadata": {},
          "execution_count": 204
        }
      ]
    },
    {
      "cell_type": "code",
      "source": [
        "randm_src.score(x_test,y_test)"
      ],
      "metadata": {
        "colab": {
          "base_uri": "https://localhost:8080/"
        },
        "id": "8Xr5UIYyJH8A",
        "outputId": "bc1938c5-477b-4fc3-a251-34bdea7e3ff0"
      },
      "id": "8Xr5UIYyJH8A",
      "execution_count": 205,
      "outputs": [
        {
          "output_type": "execute_result",
          "data": {
            "text/plain": [
              "0.9480055566580671"
            ]
          },
          "metadata": {},
          "execution_count": 205
        }
      ]
    },
    {
      "cell_type": "code",
      "source": [
        "y_pred = randm_src.predict(x_test)"
      ],
      "metadata": {
        "id": "io2RTuloJqBE"
      },
      "id": "io2RTuloJqBE",
      "execution_count": 206,
      "outputs": []
    },
    {
      "cell_type": "code",
      "source": [
        "sns.set()\n",
        "# y_pred = randm_src.predict(x_test)\n",
        "ConfusionMatrixDisplay.from_predictions(y_pred=y_pred,y_true=y_test,labels=randm_src.classes_)"
      ],
      "metadata": {
        "colab": {
          "base_uri": "https://localhost:8080/",
          "height": 302
        },
        "id": "hxSPvlf8J5QU",
        "outputId": "a5e50ad9-e578-4918-ab18-b60d711a65d4"
      },
      "id": "hxSPvlf8J5QU",
      "execution_count": 209,
      "outputs": [
        {
          "output_type": "execute_result",
          "data": {
            "text/plain": [
              "<sklearn.metrics._plot.confusion_matrix.ConfusionMatrixDisplay at 0x7f710b6cba90>"
            ]
          },
          "metadata": {},
          "execution_count": 209
        },
        {
          "output_type": "display_data",
          "data": {
            "text/plain": [
              "<Figure size 432x288 with 2 Axes>"
            ],
            "image/png": "[encoded data removed]"
          },
          "metadata": {}
        }
      ]
    },
    {
      "cell_type": "code",
      "source": [
        "print(classification_report(y_pred=y_pred,y_true=y_test))"
      ],
      "metadata": {
        "colab": {
          "base_uri": "https://localhost:8080/"
        },
        "id": "e39tosxDJ8MU",
        "outputId": "139bd6ac-ada0-451a-f708-266ea5c30e36"
      },
      "id": "e39tosxDJ8MU",
      "execution_count": 208,
      "outputs": [
        {
          "output_type": "stream",
          "name": "stdout",
          "text": [
            "              precision    recall  f1-score   support\n",
            "\n",
            "           0       0.95      0.95      0.95     13469\n",
            "           1       0.95      0.94      0.94     11726\n",
            "\n",
            "    accuracy                           0.95     25195\n",
            "   macro avg       0.95      0.95      0.95     25195\n",
            "weighted avg       0.95      0.95      0.95     25195\n",
            "\n"
          ]
        }
      ]
    },
    {
      "cell_type": "code",
      "source": [
        "randm_src.best_estimator_"
      ],
      "metadata": {
        "colab": {
          "base_uri": "https://localhost:8080/"
        },
        "id": "hPpDUbkmJ_bn",
        "outputId": "090d4309-bcba-4346-a082-1572b82eca82"
      },
      "id": "hPpDUbkmJ_bn",
      "execution_count": 210,
      "outputs": [
        {
          "output_type": "execute_result",
          "data": {
            "text/plain": [
              "SVC(C=100, random_state=365)"
            ]
          },
          "metadata": {},
          "execution_count": 210
        }
      ]
    },
    {
      "cell_type": "code",
      "source": [],
      "metadata": {
        "id": "sCqsPWAXKOUa"
      },
      "id": "sCqsPWAXKOUa",
      "execution_count": null,
      "outputs": []
    }
  ],
  "metadata": {
    "kernelspec": {
      "display_name": "Python 3",
      "language": "python",
      "name": "python3"
    },
    "language_info": {
      "codemirror_mode": {
        "name": "ipython",
        "version": 3
      },
      "file_extension": ".py",
      "mimetype": "text/x-python",
      "name": "python",
      "nbconvert_exporter": "python",
      "pygments_lexer": "ipython3",
      "version": "3.8.8"
    },
    "colab": {
      "provenance": [],
      "collapsed_sections": [
        "3fb5e41a",
        "84da276e"
      ]
    }
  },
  "nbformat": 4,
  "nbformat_minor": 5
}